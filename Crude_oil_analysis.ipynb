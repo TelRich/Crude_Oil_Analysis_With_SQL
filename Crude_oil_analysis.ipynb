{
 "cells": [
  {
   "cell_type": "markdown",
   "metadata": {},
   "source": [
    "# Nigeria Export Crude Oil Production and Price\n",
    "According to [Wikipedia](https://en.wikipedia.org/wiki/Petroleum_industry_in_Nigeria#:~:text=Nigeria%20is%20the%20largest%20oil,paraffinic%20and%20low%20in%20sulfur.), Nigeria is the largest oil and gas producer in Africa. [Crude oil](https://en.wikipedia.org/wiki/Petroleum) from the [Niger delta basin](https://en.wikipedia.org/wiki/Niger_Delta) comes in two types: [light](https://en.wikipedia.org/wiki/Light_crude_oil), and comparatively [heavy](https://en.wikipedia.org/wiki/Heavy_crude_oil) – the lighter has around 36 gravity while the heavier has 20–25 gravity. Both types are [paraffinic](https://en.wikipedia.org/wiki/Alkane) and low in [sulfur](https://en.wikipedia.org/wiki/Sulfur).Nigeria's economy and budget have been largely supported from income and revenues generated from the petroleum industry since 1960. Statistics as at February 2021 shows that the Nigerian oil sector contributes to about 9% of the entire [GDP](https://en.wikipedia.org/wiki/Gross_domestic_product) of the nation. Nigeria is the largest oil and gas producer in Africa, a major exporter of crude oil and petroleum products to the United States of America. In 2010, Nigeria exported over one million barrels per day to the United States of America, representing 9% of the U.S. total crude oil and petroleum products imports and over 40% of Nigeria exports.\n",
    "\n",
    "This project involves the use of [**SQL**](https://www.w3schools.com/sql/) and [**Python**](https://www.python.org/) programming language. SQL will be used to answer the given question while Python will be used to present the answers as a dataframe and visualize it where necessary.\n",
    "\n",
    "The data used for this analysis can be found on [Central Bank of Nigeria (CBN) Statistic section](https://www.cbn.gov.ng/rates/crudeoil.asp). It contain 5 fields with 201 records.\n",
    "\n",
    "<h1 id=\"crude_oil\"><code>CrudeOilPrice</code></h1>\n",
    "<table>\n",
    "<thead>\n",
    "<tr>\n",
    "<th>column</th>\n",
    "<th>type</th>\n",
    "<th>description</th>\n",
    "</tr>\n",
    "</thead>\n",
    "<tbody>\n",
    "<tr>\n",
    "<td><code>year</code></td>\n",
    "<td><code>varchar</code></td>\n",
    "<td>Year of production</td>\n",
    "</tr>\n",
    "<tr>\n",
    "<td><code>month</code></td>\n",
    "<td><code>smallint</code></td>\n",
    "<td>Month in each year</td>\n",
    "</tr>\n",
    "<tr>\n",
    "<td><code>crude_oil_price</code></td>\n",
    "<td><code>decimal</code></td>\n",
    "<td>Price of crude oil (US$/Barrel)</td>\n",
    "</tr>\n",
    "<tr>\n",
    "<td><code>production</code></td>\n",
    "<td><code>decimal</code></td>\n",
    "<td>Crude oil produced in millions barrels per day (mbd)</td>\n",
    "</tr>\n",
    "<tr>\n",
    "<td><code>crude_oil_export</code></td>\n",
    "<td><code>decimal</code></td>\n",
    "<td>Crude oil exported in millions barrels per day (mbd)</td>\n",
    "</tr>\n",
    "</tbody>\n",
    "</table>\n",
    "\n",
    "## Questions \n",
    "* Which year was the largest production ever made? Narrow it down to the month.\n",
    "* Which year has the highest average production of crude oil for our record?\n",
    "* Which year has the highest average price?\n",
    "* Is there a month where all barrels of oil produced was exported totally?\n",
    "* How many times was crude oil exported less than 70% of the production total?\n",
    "* How has production and price change with three years gap?\n",
    "\n",
    "Other insights. "
   ]
  },
  {
   "cell_type": "code",
   "execution_count": 1,
   "metadata": {},
   "outputs": [
    {
     "data": {
      "text/html": [
       "        <script type=\"text/javascript\">\n",
       "        window.PlotlyConfig = {MathJaxConfig: 'local'};\n",
       "        if (window.MathJax && window.MathJax.Hub && window.MathJax.Hub.Config) {window.MathJax.Hub.Config({SVG: {font: \"STIX-Web\"}});}\n",
       "        if (typeof require !== 'undefined') {\n",
       "        require.undef(\"plotly\");\n",
       "        requirejs.config({\n",
       "            paths: {\n",
       "                'plotly': ['https://cdn.plot.ly/plotly-2.14.0.min']\n",
       "            }\n",
       "        });\n",
       "        require(['plotly'], function(Plotly) {\n",
       "            window._Plotly = Plotly;\n",
       "        });\n",
       "        }\n",
       "        </script>\n",
       "        "
      ]
     },
     "metadata": {},
     "output_type": "display_data"
    }
   ],
   "source": [
    "# Importing required libraries\n",
    "import sqlite3 as sq\n",
    "import plotly.graph_objs as go\n",
    "import plotly.offline as po\n",
    "po.init_notebook_mode(connected=True)"
   ]
  },
  {
   "cell_type": "code",
   "execution_count": 2,
   "metadata": {},
   "outputs": [],
   "source": [
    "# Creating Database\n",
    "conn = sq.connect(\"crude_oil.db\")\n",
    "\n",
    "# Create a table called crudeOilPrice\n",
    "query = \"\"\"\n",
    "CREATE TABLE crudeOilPrice(\n",
    "    year VARCHAR(4),\n",
    "    month SMALLINT,\n",
    "    crude_oil_price DECIMAL(5,2),\n",
    "    production DECIMAL(3,2),\n",
    "    crude_oil_export DECIMAL(3,2)\n",
    "    )\"\"\"\n",
    "\n",
    "with conn:\n",
    "    cur = conn.cursor()\n",
    "    cur.execute(\"DROP TABLE IF EXISTS crudeOilPrice\")\n",
    "    cur.execute(query)"
   ]
  },
  {
   "cell_type": "code",
   "execution_count": 3,
   "metadata": {},
   "outputs": [
    {
     "data": {
      "text/html": [
       "<div>\n",
       "<style scoped>\n",
       "    .dataframe tbody tr th:only-of-type {\n",
       "        vertical-align: middle;\n",
       "    }\n",
       "\n",
       "    .dataframe tbody tr th {\n",
       "        vertical-align: top;\n",
       "    }\n",
       "\n",
       "    .dataframe thead th {\n",
       "        text-align: right;\n",
       "    }\n",
       "</style>\n",
       "<table border=\"1\" class=\"dataframe\">\n",
       "  <thead>\n",
       "    <tr style=\"text-align: right;\">\n",
       "      <th></th>\n",
       "      <th>name</th>\n",
       "    </tr>\n",
       "  </thead>\n",
       "  <tbody>\n",
       "    <tr>\n",
       "      <th>0</th>\n",
       "      <td>crudeOilPrice</td>\n",
       "    </tr>\n",
       "  </tbody>\n",
       "</table>\n",
       "</div>"
      ],
      "text/plain": [
       "            name\n",
       "0  crudeOilPrice"
      ]
     },
     "execution_count": 3,
     "metadata": {},
     "output_type": "execute_result"
    }
   ],
   "source": [
    "# checking our sqlite master for confirmation\n",
    "query = \"SELECT name FROM sqlite_master WHERE type='table'\"\n",
    "import pandas as pd\n",
    "sqlDF = pd.read_sql_query(query, conn)\n",
    "sqlDF"
   ]
  },
  {
   "cell_type": "markdown",
   "metadata": {},
   "source": [
    "Let fill in values from the [csv file](https://www.cbn.gov.ng/Functions/export.asp?tablename=CrudeOilProdPrice) gotten from CBN\n"
   ]
  },
  {
   "cell_type": "code",
   "execution_count": 4,
   "metadata": {},
   "outputs": [
    {
     "data": {
      "text/html": [
       "<div>\n",
       "<style scoped>\n",
       "    .dataframe tbody tr th:only-of-type {\n",
       "        vertical-align: middle;\n",
       "    }\n",
       "\n",
       "    .dataframe tbody tr th {\n",
       "        vertical-align: top;\n",
       "    }\n",
       "\n",
       "    .dataframe thead th {\n",
       "        text-align: right;\n",
       "    }\n",
       "</style>\n",
       "<table border=\"1\" class=\"dataframe\">\n",
       "  <thead>\n",
       "    <tr style=\"text-align: right;\">\n",
       "      <th></th>\n",
       "      <th>Year</th>\n",
       "      <th>Month</th>\n",
       "      <th>Crude Oil Price</th>\n",
       "      <th>Production</th>\n",
       "      <th>Crude Oil Export</th>\n",
       "    </tr>\n",
       "  </thead>\n",
       "  <tbody>\n",
       "    <tr>\n",
       "      <th>0</th>\n",
       "      <td>2006</td>\n",
       "      <td>1</td>\n",
       "      <td>63.85</td>\n",
       "      <td>2.59</td>\n",
       "      <td>2.14</td>\n",
       "    </tr>\n",
       "    <tr>\n",
       "      <th>1</th>\n",
       "      <td>2006</td>\n",
       "      <td>2</td>\n",
       "      <td>61.33</td>\n",
       "      <td>2.47</td>\n",
       "      <td>2.02</td>\n",
       "    </tr>\n",
       "    <tr>\n",
       "      <th>2</th>\n",
       "      <td>2006</td>\n",
       "      <td>3</td>\n",
       "      <td>65.00</td>\n",
       "      <td>2.25</td>\n",
       "      <td>1.80</td>\n",
       "    </tr>\n",
       "    <tr>\n",
       "      <th>3</th>\n",
       "      <td>2006</td>\n",
       "      <td>4</td>\n",
       "      <td>72.09</td>\n",
       "      <td>2.32</td>\n",
       "      <td>1.87</td>\n",
       "    </tr>\n",
       "    <tr>\n",
       "      <th>4</th>\n",
       "      <td>2006</td>\n",
       "      <td>5</td>\n",
       "      <td>71.18</td>\n",
       "      <td>2.28</td>\n",
       "      <td>1.83</td>\n",
       "    </tr>\n",
       "  </tbody>\n",
       "</table>\n",
       "</div>"
      ],
      "text/plain": [
       "   Year  Month  Crude Oil Price  Production  Crude Oil Export\n",
       "0  2006      1            63.85        2.59              2.14\n",
       "1  2006      2            61.33        2.47              2.02\n",
       "2  2006      3            65.00        2.25              1.80\n",
       "3  2006      4            72.09        2.32              1.87\n",
       "4  2006      5            71.18        2.28              1.83"
      ]
     },
     "execution_count": 4,
     "metadata": {},
     "output_type": "execute_result"
    }
   ],
   "source": [
    "# Loading CSV file\n",
    "csv = pd.read_csv('CrudeOilProdPrice25102022.csv', index_col=False)\n",
    "csv.head()"
   ]
  },
  {
   "cell_type": "code",
   "execution_count": 5,
   "metadata": {},
   "outputs": [
    {
     "data": {
      "text/html": [
       "<div>\n",
       "<style scoped>\n",
       "    .dataframe tbody tr th:only-of-type {\n",
       "        vertical-align: middle;\n",
       "    }\n",
       "\n",
       "    .dataframe tbody tr th {\n",
       "        vertical-align: top;\n",
       "    }\n",
       "\n",
       "    .dataframe thead th {\n",
       "        text-align: right;\n",
       "    }\n",
       "</style>\n",
       "<table border=\"1\" class=\"dataframe\">\n",
       "  <thead>\n",
       "    <tr style=\"text-align: right;\">\n",
       "      <th></th>\n",
       "      <th>year</th>\n",
       "      <th>month</th>\n",
       "      <th>crude_oil_price</th>\n",
       "      <th>production</th>\n",
       "      <th>crude_oil_export</th>\n",
       "    </tr>\n",
       "  </thead>\n",
       "  <tbody>\n",
       "    <tr>\n",
       "      <th>0</th>\n",
       "      <td>2006</td>\n",
       "      <td>1</td>\n",
       "      <td>63.85</td>\n",
       "      <td>2.59</td>\n",
       "      <td>2.14</td>\n",
       "    </tr>\n",
       "    <tr>\n",
       "      <th>1</th>\n",
       "      <td>2006</td>\n",
       "      <td>2</td>\n",
       "      <td>61.33</td>\n",
       "      <td>2.47</td>\n",
       "      <td>2.02</td>\n",
       "    </tr>\n",
       "    <tr>\n",
       "      <th>2</th>\n",
       "      <td>2006</td>\n",
       "      <td>3</td>\n",
       "      <td>65.00</td>\n",
       "      <td>2.25</td>\n",
       "      <td>1.80</td>\n",
       "    </tr>\n",
       "    <tr>\n",
       "      <th>3</th>\n",
       "      <td>2006</td>\n",
       "      <td>4</td>\n",
       "      <td>72.09</td>\n",
       "      <td>2.32</td>\n",
       "      <td>1.87</td>\n",
       "    </tr>\n",
       "    <tr>\n",
       "      <th>4</th>\n",
       "      <td>2006</td>\n",
       "      <td>5</td>\n",
       "      <td>71.18</td>\n",
       "      <td>2.28</td>\n",
       "      <td>1.83</td>\n",
       "    </tr>\n",
       "    <tr>\n",
       "      <th>...</th>\n",
       "      <td>...</td>\n",
       "      <td>...</td>\n",
       "      <td>...</td>\n",
       "      <td>...</td>\n",
       "      <td>...</td>\n",
       "    </tr>\n",
       "    <tr>\n",
       "      <th>196</th>\n",
       "      <td>2022</td>\n",
       "      <td>5</td>\n",
       "      <td>116.72</td>\n",
       "      <td>1.02</td>\n",
       "      <td>0.57</td>\n",
       "    </tr>\n",
       "    <tr>\n",
       "      <th>197</th>\n",
       "      <td>2022</td>\n",
       "      <td>6</td>\n",
       "      <td>130.10</td>\n",
       "      <td>1.16</td>\n",
       "      <td>0.71</td>\n",
       "    </tr>\n",
       "    <tr>\n",
       "      <th>198</th>\n",
       "      <td>2022</td>\n",
       "      <td>7</td>\n",
       "      <td>120.54</td>\n",
       "      <td>1.08</td>\n",
       "      <td>0.63</td>\n",
       "    </tr>\n",
       "    <tr>\n",
       "      <th>199</th>\n",
       "      <td>2022</td>\n",
       "      <td>8</td>\n",
       "      <td>106.34</td>\n",
       "      <td>0.97</td>\n",
       "      <td>0.52</td>\n",
       "    </tr>\n",
       "    <tr>\n",
       "      <th>200</th>\n",
       "      <td>2022</td>\n",
       "      <td>9</td>\n",
       "      <td>93.25</td>\n",
       "      <td>0.94</td>\n",
       "      <td>0.49</td>\n",
       "    </tr>\n",
       "  </tbody>\n",
       "</table>\n",
       "<p>201 rows × 5 columns</p>\n",
       "</div>"
      ],
      "text/plain": [
       "     year  month  crude_oil_price  production  crude_oil_export\n",
       "0    2006      1            63.85        2.59              2.14\n",
       "1    2006      2            61.33        2.47              2.02\n",
       "2    2006      3            65.00        2.25              1.80\n",
       "3    2006      4            72.09        2.32              1.87\n",
       "4    2006      5            71.18        2.28              1.83\n",
       "..    ...    ...              ...         ...               ...\n",
       "196  2022      5           116.72        1.02              0.57\n",
       "197  2022      6           130.10        1.16              0.71\n",
       "198  2022      7           120.54        1.08              0.63\n",
       "199  2022      8           106.34        0.97              0.52\n",
       "200  2022      9            93.25        0.94              0.49\n",
       "\n",
       "[201 rows x 5 columns]"
      ]
     },
     "execution_count": 5,
     "metadata": {},
     "output_type": "execute_result"
    }
   ],
   "source": [
    "# creating a tuple of values in each row\n",
    "csvTuple = tuple(csv.itertuples(index=False, name=None))\n",
    "csvTuple[0]\n",
    "\n",
    "# inserting into table crudeOilPrice\n",
    "insertQuery = \"INSERT INTO crudeOilPrice values(?,?,?,?,?)\"\n",
    "cur.executemany(insertQuery, csvTuple)\n",
    "\n",
    "# Reading table as a pandas dataframe\n",
    "query = \"SELECT * FROM crudeOilPrice\"\n",
    "pd.read_sql_query(query, conn)\n"
   ]
  },
  {
   "cell_type": "markdown",
   "metadata": {
    "slideshow": {
     "slide_type": "slide"
    }
   },
   "source": [
    "## Data Cleaning\n",
    "In the data, moths were represented with numbers. This will be replaced with the actual month name."
   ]
  },
  {
   "cell_type": "code",
   "execution_count": 6,
   "metadata": {},
   "outputs": [
    {
     "data": {
      "text/html": [
       "<div>\n",
       "<style scoped>\n",
       "    .dataframe tbody tr th:only-of-type {\n",
       "        vertical-align: middle;\n",
       "    }\n",
       "\n",
       "    .dataframe tbody tr th {\n",
       "        vertical-align: top;\n",
       "    }\n",
       "\n",
       "    .dataframe thead th {\n",
       "        text-align: right;\n",
       "    }\n",
       "</style>\n",
       "<table border=\"1\" class=\"dataframe\">\n",
       "  <thead>\n",
       "    <tr style=\"text-align: right;\">\n",
       "      <th></th>\n",
       "      <th>year</th>\n",
       "      <th>month</th>\n",
       "      <th>crude_oil_price</th>\n",
       "      <th>production</th>\n",
       "      <th>crude_oil_export</th>\n",
       "    </tr>\n",
       "  </thead>\n",
       "  <tbody>\n",
       "    <tr>\n",
       "      <th>0</th>\n",
       "      <td>2006</td>\n",
       "      <td>January</td>\n",
       "      <td>63.85</td>\n",
       "      <td>2.59</td>\n",
       "      <td>2.14</td>\n",
       "    </tr>\n",
       "    <tr>\n",
       "      <th>1</th>\n",
       "      <td>2006</td>\n",
       "      <td>February</td>\n",
       "      <td>61.33</td>\n",
       "      <td>2.47</td>\n",
       "      <td>2.02</td>\n",
       "    </tr>\n",
       "    <tr>\n",
       "      <th>2</th>\n",
       "      <td>2006</td>\n",
       "      <td>March</td>\n",
       "      <td>65.00</td>\n",
       "      <td>2.25</td>\n",
       "      <td>1.80</td>\n",
       "    </tr>\n",
       "    <tr>\n",
       "      <th>3</th>\n",
       "      <td>2006</td>\n",
       "      <td>April</td>\n",
       "      <td>72.09</td>\n",
       "      <td>2.32</td>\n",
       "      <td>1.87</td>\n",
       "    </tr>\n",
       "    <tr>\n",
       "      <th>4</th>\n",
       "      <td>2006</td>\n",
       "      <td>May</td>\n",
       "      <td>71.18</td>\n",
       "      <td>2.28</td>\n",
       "      <td>1.83</td>\n",
       "    </tr>\n",
       "    <tr>\n",
       "      <th>...</th>\n",
       "      <td>...</td>\n",
       "      <td>...</td>\n",
       "      <td>...</td>\n",
       "      <td>...</td>\n",
       "      <td>...</td>\n",
       "    </tr>\n",
       "    <tr>\n",
       "      <th>196</th>\n",
       "      <td>2022</td>\n",
       "      <td>May</td>\n",
       "      <td>116.72</td>\n",
       "      <td>1.02</td>\n",
       "      <td>0.57</td>\n",
       "    </tr>\n",
       "    <tr>\n",
       "      <th>197</th>\n",
       "      <td>2022</td>\n",
       "      <td>June</td>\n",
       "      <td>130.10</td>\n",
       "      <td>1.16</td>\n",
       "      <td>0.71</td>\n",
       "    </tr>\n",
       "    <tr>\n",
       "      <th>198</th>\n",
       "      <td>2022</td>\n",
       "      <td>July</td>\n",
       "      <td>120.54</td>\n",
       "      <td>1.08</td>\n",
       "      <td>0.63</td>\n",
       "    </tr>\n",
       "    <tr>\n",
       "      <th>199</th>\n",
       "      <td>2022</td>\n",
       "      <td>August</td>\n",
       "      <td>106.34</td>\n",
       "      <td>0.97</td>\n",
       "      <td>0.52</td>\n",
       "    </tr>\n",
       "    <tr>\n",
       "      <th>200</th>\n",
       "      <td>2022</td>\n",
       "      <td>September</td>\n",
       "      <td>93.25</td>\n",
       "      <td>0.94</td>\n",
       "      <td>0.49</td>\n",
       "    </tr>\n",
       "  </tbody>\n",
       "</table>\n",
       "<p>201 rows × 5 columns</p>\n",
       "</div>"
      ],
      "text/plain": [
       "     year      month  crude_oil_price  production  crude_oil_export\n",
       "0    2006    January            63.85        2.59              2.14\n",
       "1    2006   February            61.33        2.47              2.02\n",
       "2    2006      March            65.00        2.25              1.80\n",
       "3    2006      April            72.09        2.32              1.87\n",
       "4    2006        May            71.18        2.28              1.83\n",
       "..    ...        ...              ...         ...               ...\n",
       "196  2022        May           116.72        1.02              0.57\n",
       "197  2022       June           130.10        1.16              0.71\n",
       "198  2022       July           120.54        1.08              0.63\n",
       "199  2022     August           106.34        0.97              0.52\n",
       "200  2022  September            93.25        0.94              0.49\n",
       "\n",
       "[201 rows x 5 columns]"
      ]
     },
     "execution_count": 6,
     "metadata": {},
     "output_type": "execute_result"
    }
   ],
   "source": [
    "# Replacing month numbers with actual name\n",
    "query = \"\"\"\n",
    "UPDATE\n",
    "    crudeOilPrice\n",
    "SET \n",
    "    month = \n",
    "        REPLACE(\n",
    "        REPLACE(\n",
    "        REPLACE(\n",
    "        REPLACE(\n",
    "        REPLACE(\n",
    "        REPLACE(\n",
    "        REPLACE(\n",
    "        REPLACE(\n",
    "        REPLACE(\n",
    "        REPLACE(\n",
    "        REPLACE(\n",
    "        REPLACE(month, 12, 'December'), \n",
    "        2, 'February'), \n",
    "        3, 'March'),\n",
    "        4, 'April'),\n",
    "        5, 'May'), \n",
    "        6, 'June'),\n",
    "        7, 'July'),\n",
    "        8, 'August'),\n",
    "        9, 'September'),\n",
    "        10, 'October'),\n",
    "        11, 'November'),\n",
    "        1, 'January')\n",
    "\"\"\"\n",
    "# Previewing for confirmation\n",
    "cur.execute(query)\n",
    "query = \"SELECT * FROM crudeOilPrice\"\n",
    "pd.read_sql_query(query, conn)"
   ]
  },
  {
   "cell_type": "markdown",
   "metadata": {},
   "source": [
    "## Exploration"
   ]
  },
  {
   "cell_type": "code",
   "execution_count": 7,
   "metadata": {},
   "outputs": [
    {
     "data": {
      "text/html": [
       "<div>\n",
       "<style scoped>\n",
       "    .dataframe tbody tr th:only-of-type {\n",
       "        vertical-align: middle;\n",
       "    }\n",
       "\n",
       "    .dataframe tbody tr th {\n",
       "        vertical-align: top;\n",
       "    }\n",
       "\n",
       "    .dataframe thead th {\n",
       "        text-align: right;\n",
       "    }\n",
       "</style>\n",
       "<table border=\"1\" class=\"dataframe\">\n",
       "  <thead>\n",
       "    <tr style=\"text-align: right;\">\n",
       "      <th></th>\n",
       "      <th>Records</th>\n",
       "      <th>Years_record</th>\n",
       "      <th>Distinct_Month</th>\n",
       "      <th>Start_year</th>\n",
       "      <th>End_year</th>\n",
       "    </tr>\n",
       "  </thead>\n",
       "  <tbody>\n",
       "    <tr>\n",
       "      <th>0</th>\n",
       "      <td>201</td>\n",
       "      <td>17</td>\n",
       "      <td>12</td>\n",
       "      <td>2006</td>\n",
       "      <td>2022</td>\n",
       "    </tr>\n",
       "  </tbody>\n",
       "</table>\n",
       "</div>"
      ],
      "text/plain": [
       "   Records  Years_record  Distinct_Month Start_year End_year\n",
       "0      201            17              12       2006     2022"
      ]
     },
     "execution_count": 7,
     "metadata": {},
     "output_type": "execute_result"
    }
   ],
   "source": [
    "# Overview of record\n",
    "query = \"\"\"\n",
    "SELECT  COUNT(*) Records, \n",
    "        COUNT(DISTINCT year) Years_record,\n",
    "        COUNT(DISTINCT month) Distinct_Month,\n",
    "        MIN(year) AS Start_year,\n",
    "        MAX(year) AS End_year\n",
    "  FROM  crudeOilPrice\n",
    "\"\"\"\n",
    "sqlDF = pd.read_sql_query(query, conn)\n",
    "sqlDF"
   ]
  },
  {
   "cell_type": "markdown",
   "metadata": {},
   "source": [
    "### Which year was the largest production ever made? Narrow it down to the month."
   ]
  },
  {
   "cell_type": "code",
   "execution_count": 8,
   "metadata": {},
   "outputs": [
    {
     "data": {
      "text/html": [
       "<div>\n",
       "<style scoped>\n",
       "    .dataframe tbody tr th:only-of-type {\n",
       "        vertical-align: middle;\n",
       "    }\n",
       "\n",
       "    .dataframe tbody tr th {\n",
       "        vertical-align: top;\n",
       "    }\n",
       "\n",
       "    .dataframe thead th {\n",
       "        text-align: right;\n",
       "    }\n",
       "</style>\n",
       "<table border=\"1\" class=\"dataframe\">\n",
       "  <thead>\n",
       "    <tr style=\"text-align: right;\">\n",
       "      <th></th>\n",
       "      <th>year</th>\n",
       "      <th>month</th>\n",
       "      <th>Max_Prod</th>\n",
       "    </tr>\n",
       "  </thead>\n",
       "  <tbody>\n",
       "    <tr>\n",
       "      <th>0</th>\n",
       "      <td>2010</td>\n",
       "      <td>October</td>\n",
       "      <td>2.88</td>\n",
       "    </tr>\n",
       "  </tbody>\n",
       "</table>\n",
       "</div>"
      ],
      "text/plain": [
       "   year    month  Max_Prod\n",
       "0  2010  October      2.88"
      ]
     },
     "execution_count": 8,
     "metadata": {},
     "output_type": "execute_result"
    }
   ],
   "source": [
    "query = \"\"\"\n",
    "SELECT  year, month, max(production) AS Max_Prod\n",
    "  FROM  crudeOilPrice\n",
    "\"\"\"\n",
    "pd.read_sql_query(query, conn)"
   ]
  },
  {
   "cell_type": "markdown",
   "metadata": {},
   "source": [
    "The largest production was made in October 2010\n",
    "### Which year has the highest average production of crude oil for our record?"
   ]
  },
  {
   "cell_type": "code",
   "execution_count": 9,
   "metadata": {},
   "outputs": [
    {
     "data": {
      "text/html": [
       "<div>\n",
       "<style scoped>\n",
       "    .dataframe tbody tr th:only-of-type {\n",
       "        vertical-align: middle;\n",
       "    }\n",
       "\n",
       "    .dataframe tbody tr th {\n",
       "        vertical-align: top;\n",
       "    }\n",
       "\n",
       "    .dataframe thead th {\n",
       "        text-align: right;\n",
       "    }\n",
       "</style>\n",
       "<table border=\"1\" class=\"dataframe\">\n",
       "  <thead>\n",
       "    <tr style=\"text-align: right;\">\n",
       "      <th></th>\n",
       "      <th>Year</th>\n",
       "      <th>Max_Avg_Prod</th>\n",
       "    </tr>\n",
       "  </thead>\n",
       "  <tbody>\n",
       "    <tr>\n",
       "      <th>0</th>\n",
       "      <td>2010</td>\n",
       "      <td>2.4675</td>\n",
       "    </tr>\n",
       "  </tbody>\n",
       "</table>\n",
       "</div>"
      ],
      "text/plain": [
       "   Year  Max_Avg_Prod\n",
       "0  2010        2.4675"
      ]
     },
     "execution_count": 9,
     "metadata": {},
     "output_type": "execute_result"
    }
   ],
   "source": [
    "query = \"\"\"\n",
    "SELECT sub.Year, max(sub.Avg_Prod) AS Max_Avg_Prod\n",
    "  FROM (\n",
    "          SELECT year AS Year, avg(production) AS Avg_Prod\n",
    "            FROM crudeOilPrice\n",
    "        GROUP BY Year) AS sub\n",
    "\"\"\"\n",
    "pd.read_sql_query(query, conn)"
   ]
  },
  {
   "cell_type": "markdown",
   "metadata": {},
   "source": [
    " The highest average production was made in 2010\n",
    " ### Which year has the highest average price?"
   ]
  },
  {
   "cell_type": "code",
   "execution_count": 10,
   "metadata": {},
   "outputs": [
    {
     "data": {
      "text/html": [
       "<div>\n",
       "<style scoped>\n",
       "    .dataframe tbody tr th:only-of-type {\n",
       "        vertical-align: middle;\n",
       "    }\n",
       "\n",
       "    .dataframe tbody tr th {\n",
       "        vertical-align: top;\n",
       "    }\n",
       "\n",
       "    .dataframe thead th {\n",
       "        text-align: right;\n",
       "    }\n",
       "</style>\n",
       "<table border=\"1\" class=\"dataframe\">\n",
       "  <thead>\n",
       "    <tr style=\"text-align: right;\">\n",
       "      <th></th>\n",
       "      <th>Year</th>\n",
       "      <th>Max_Avg_Price</th>\n",
       "    </tr>\n",
       "  </thead>\n",
       "  <tbody>\n",
       "    <tr>\n",
       "      <th>0</th>\n",
       "      <td>2011</td>\n",
       "      <td>113.76</td>\n",
       "    </tr>\n",
       "  </tbody>\n",
       "</table>\n",
       "</div>"
      ],
      "text/plain": [
       "   Year  Max_Avg_Price\n",
       "0  2011         113.76"
      ]
     },
     "execution_count": 10,
     "metadata": {},
     "output_type": "execute_result"
    }
   ],
   "source": [
    "query = \"\"\"\n",
    "SELECT sub.Year, max(Avg_Price) AS Max_Avg_Price\n",
    "  FROM (\n",
    "          SELECT year AS Year, avg(crude_oil_price) AS Avg_Price\n",
    "            FROM crudeOilPrice\n",
    "        GROUP BY Year) AS sub\n",
    "\"\"\"\n",
    "pd.read_sql_query(query, conn)"
   ]
  },
  {
   "cell_type": "markdown",
   "metadata": {},
   "source": [
    "2011 has the highest average price\n",
    "### Is there a month where all barrels of oil produced was exported totally?"
   ]
  },
  {
   "cell_type": "code",
   "execution_count": 11,
   "metadata": {},
   "outputs": [
    {
     "data": {
      "text/html": [
       "<div>\n",
       "<style scoped>\n",
       "    .dataframe tbody tr th:only-of-type {\n",
       "        vertical-align: middle;\n",
       "    }\n",
       "\n",
       "    .dataframe tbody tr th {\n",
       "        vertical-align: top;\n",
       "    }\n",
       "\n",
       "    .dataframe thead th {\n",
       "        text-align: right;\n",
       "    }\n",
       "</style>\n",
       "<table border=\"1\" class=\"dataframe\">\n",
       "  <thead>\n",
       "    <tr style=\"text-align: right;\">\n",
       "      <th></th>\n",
       "      <th>count</th>\n",
       "    </tr>\n",
       "  </thead>\n",
       "  <tbody>\n",
       "    <tr>\n",
       "      <th>0</th>\n",
       "      <td>0</td>\n",
       "    </tr>\n",
       "  </tbody>\n",
       "</table>\n",
       "</div>"
      ],
      "text/plain": [
       "   count\n",
       "0      0"
      ]
     },
     "execution_count": 11,
     "metadata": {},
     "output_type": "execute_result"
    }
   ],
   "source": [
    "query = \"\"\"\n",
    "SELECT COUNT(*) AS count\n",
    "  FROM crudeOilPrice\n",
    " WHERE production = crude_oil_export\n",
    "\"\"\"\n",
    "pd.read_sql_query(query, conn)"
   ]
  },
  {
   "cell_type": "markdown",
   "metadata": {},
   "source": [
    "Nigeria has never exported all the crude oil it produce.\n",
    "### How many times was crude oil exported less than 70% of the production total?"
   ]
  },
  {
   "cell_type": "code",
   "execution_count": 12,
   "metadata": {},
   "outputs": [
    {
     "data": {
      "text/html": [
       "<div>\n",
       "<style scoped>\n",
       "    .dataframe tbody tr th:only-of-type {\n",
       "        vertical-align: middle;\n",
       "    }\n",
       "\n",
       "    .dataframe tbody tr th {\n",
       "        vertical-align: top;\n",
       "    }\n",
       "\n",
       "    .dataframe thead th {\n",
       "        text-align: right;\n",
       "    }\n",
       "</style>\n",
       "<table border=\"1\" class=\"dataframe\">\n",
       "  <thead>\n",
       "    <tr style=\"text-align: right;\">\n",
       "      <th></th>\n",
       "      <th>Count</th>\n",
       "    </tr>\n",
       "  </thead>\n",
       "  <tbody>\n",
       "    <tr>\n",
       "      <th>0</th>\n",
       "      <td>22</td>\n",
       "    </tr>\n",
       "  </tbody>\n",
       "</table>\n",
       "</div>"
      ],
      "text/plain": [
       "   Count\n",
       "0     22"
      ]
     },
     "execution_count": 12,
     "metadata": {},
     "output_type": "execute_result"
    }
   ],
   "source": [
    "query = \"\"\"\n",
    "SELECT  COUNT(*) AS Count\n",
    "  FROM  (\n",
    "        SELECT production, year, crude_oil_export, 0.7 * production AS seventy_perc_prod\n",
    "  FROM  crudeOilPrice)\n",
    " WHERE  crude_oil_export < seventy_perc_prod\n",
    "\"\"\"\n",
    "pd.read_sql_query(query, conn)"
   ]
  },
  {
   "cell_type": "markdown",
   "metadata": {},
   "source": [
    "We have 22 count, let's narrow it down to year with the highest count."
   ]
  },
  {
   "cell_type": "code",
   "execution_count": 13,
   "metadata": {},
   "outputs": [
    {
     "data": {
      "text/html": [
       "<div>\n",
       "<style scoped>\n",
       "    .dataframe tbody tr th:only-of-type {\n",
       "        vertical-align: middle;\n",
       "    }\n",
       "\n",
       "    .dataframe tbody tr th {\n",
       "        vertical-align: top;\n",
       "    }\n",
       "\n",
       "    .dataframe thead th {\n",
       "        text-align: right;\n",
       "    }\n",
       "</style>\n",
       "<table border=\"1\" class=\"dataframe\">\n",
       "  <thead>\n",
       "    <tr style=\"text-align: right;\">\n",
       "      <th></th>\n",
       "      <th>Year</th>\n",
       "      <th>Export_Count</th>\n",
       "    </tr>\n",
       "  </thead>\n",
       "  <tbody>\n",
       "    <tr>\n",
       "      <th>0</th>\n",
       "      <td>2020</td>\n",
       "      <td>1</td>\n",
       "    </tr>\n",
       "    <tr>\n",
       "      <th>1</th>\n",
       "      <td>2021</td>\n",
       "      <td>12</td>\n",
       "    </tr>\n",
       "    <tr>\n",
       "      <th>2</th>\n",
       "      <td>2022</td>\n",
       "      <td>9</td>\n",
       "    </tr>\n",
       "  </tbody>\n",
       "</table>\n",
       "</div>"
      ],
      "text/plain": [
       "   Year  Export_Count\n",
       "0  2020             1\n",
       "1  2021            12\n",
       "2  2022             9"
      ]
     },
     "execution_count": 13,
     "metadata": {},
     "output_type": "execute_result"
    }
   ],
   "source": [
    "query = \"\"\"\n",
    "  SELECT year AS Year, COUNT(*) AS Export_Count\n",
    "    FROM (\n",
    "           SELECT production, year, crude_oil_export, 0.7 * production AS fifty_perc_prod\n",
    "             FROM crudeOilPrice)\n",
    "   WHERE crude_oil_export < fifty_perc_prod\n",
    "GROUP BY Year\n",
    "\"\"\"\n",
    "pd.read_sql_query(query, conn)"
   ]
  },
  {
   "cell_type": "markdown",
   "metadata": {},
   "source": [
    "We have seen years that exported oil was below 70% of production. \n",
    "\n",
    "Let's look at when exported oil was above 80%"
   ]
  },
  {
   "cell_type": "code",
   "execution_count": 14,
   "metadata": {},
   "outputs": [
    {
     "name": "stdout",
     "output_type": "stream",
     "text": [
      "      Export_Count\n",
      "Year              \n",
      "2006            12\n",
      "2007             5\n",
      "2008             1\n",
      "2009             1\n",
      "2010            11\n",
      "2011            12\n",
      "2012             8\n",
      "2013             2\n",
      "2014             3\n"
     ]
    },
    {
     "data": {
      "application/vnd.plotly.v1+json": {
       "config": {
        "plotlyServerURL": "https://plot.ly"
       },
       "data": [
        {
         "line": {
          "color": "forestgreen",
          "dash": "dot",
          "width": 3
         },
         "mode": "lines+markers+text",
         "text": [
          12,
          5,
          1,
          1,
          11,
          12,
          8,
          2,
          3
         ],
         "textfont": {
          "size": 13
         },
         "textposition": "top center",
         "type": "scatter",
         "x": [
          "2006",
          "2007",
          "2008",
          "2009",
          "2010",
          "2011",
          "2012",
          "2013",
          "2014"
         ],
         "y": [
          12,
          5,
          1,
          1,
          11,
          12,
          8,
          2,
          3
         ]
        }
       ],
       "layout": {
        "template": {
         "data": {
          "bar": [
           {
            "error_x": {
             "color": "#2a3f5f"
            },
            "error_y": {
             "color": "#2a3f5f"
            },
            "marker": {
             "line": {
              "color": "#E5ECF6",
              "width": 0.5
             },
             "pattern": {
              "fillmode": "overlay",
              "size": 10,
              "solidity": 0.2
             }
            },
            "type": "bar"
           }
          ],
          "barpolar": [
           {
            "marker": {
             "line": {
              "color": "#E5ECF6",
              "width": 0.5
             },
             "pattern": {
              "fillmode": "overlay",
              "size": 10,
              "solidity": 0.2
             }
            },
            "type": "barpolar"
           }
          ],
          "carpet": [
           {
            "aaxis": {
             "endlinecolor": "#2a3f5f",
             "gridcolor": "white",
             "linecolor": "white",
             "minorgridcolor": "white",
             "startlinecolor": "#2a3f5f"
            },
            "baxis": {
             "endlinecolor": "#2a3f5f",
             "gridcolor": "white",
             "linecolor": "white",
             "minorgridcolor": "white",
             "startlinecolor": "#2a3f5f"
            },
            "type": "carpet"
           }
          ],
          "choropleth": [
           {
            "colorbar": {
             "outlinewidth": 0,
             "ticks": ""
            },
            "type": "choropleth"
           }
          ],
          "contour": [
           {
            "colorbar": {
             "outlinewidth": 0,
             "ticks": ""
            },
            "colorscale": [
             [
              0,
              "#0d0887"
             ],
             [
              0.1111111111111111,
              "#46039f"
             ],
             [
              0.2222222222222222,
              "#7201a8"
             ],
             [
              0.3333333333333333,
              "#9c179e"
             ],
             [
              0.4444444444444444,
              "#bd3786"
             ],
             [
              0.5555555555555556,
              "#d8576b"
             ],
             [
              0.6666666666666666,
              "#ed7953"
             ],
             [
              0.7777777777777778,
              "#fb9f3a"
             ],
             [
              0.8888888888888888,
              "#fdca26"
             ],
             [
              1,
              "#f0f921"
             ]
            ],
            "type": "contour"
           }
          ],
          "contourcarpet": [
           {
            "colorbar": {
             "outlinewidth": 0,
             "ticks": ""
            },
            "type": "contourcarpet"
           }
          ],
          "heatmap": [
           {
            "colorbar": {
             "outlinewidth": 0,
             "ticks": ""
            },
            "colorscale": [
             [
              0,
              "#0d0887"
             ],
             [
              0.1111111111111111,
              "#46039f"
             ],
             [
              0.2222222222222222,
              "#7201a8"
             ],
             [
              0.3333333333333333,
              "#9c179e"
             ],
             [
              0.4444444444444444,
              "#bd3786"
             ],
             [
              0.5555555555555556,
              "#d8576b"
             ],
             [
              0.6666666666666666,
              "#ed7953"
             ],
             [
              0.7777777777777778,
              "#fb9f3a"
             ],
             [
              0.8888888888888888,
              "#fdca26"
             ],
             [
              1,
              "#f0f921"
             ]
            ],
            "type": "heatmap"
           }
          ],
          "heatmapgl": [
           {
            "colorbar": {
             "outlinewidth": 0,
             "ticks": ""
            },
            "colorscale": [
             [
              0,
              "#0d0887"
             ],
             [
              0.1111111111111111,
              "#46039f"
             ],
             [
              0.2222222222222222,
              "#7201a8"
             ],
             [
              0.3333333333333333,
              "#9c179e"
             ],
             [
              0.4444444444444444,
              "#bd3786"
             ],
             [
              0.5555555555555556,
              "#d8576b"
             ],
             [
              0.6666666666666666,
              "#ed7953"
             ],
             [
              0.7777777777777778,
              "#fb9f3a"
             ],
             [
              0.8888888888888888,
              "#fdca26"
             ],
             [
              1,
              "#f0f921"
             ]
            ],
            "type": "heatmapgl"
           }
          ],
          "histogram": [
           {
            "marker": {
             "pattern": {
              "fillmode": "overlay",
              "size": 10,
              "solidity": 0.2
             }
            },
            "type": "histogram"
           }
          ],
          "histogram2d": [
           {
            "colorbar": {
             "outlinewidth": 0,
             "ticks": ""
            },
            "colorscale": [
             [
              0,
              "#0d0887"
             ],
             [
              0.1111111111111111,
              "#46039f"
             ],
             [
              0.2222222222222222,
              "#7201a8"
             ],
             [
              0.3333333333333333,
              "#9c179e"
             ],
             [
              0.4444444444444444,
              "#bd3786"
             ],
             [
              0.5555555555555556,
              "#d8576b"
             ],
             [
              0.6666666666666666,
              "#ed7953"
             ],
             [
              0.7777777777777778,
              "#fb9f3a"
             ],
             [
              0.8888888888888888,
              "#fdca26"
             ],
             [
              1,
              "#f0f921"
             ]
            ],
            "type": "histogram2d"
           }
          ],
          "histogram2dcontour": [
           {
            "colorbar": {
             "outlinewidth": 0,
             "ticks": ""
            },
            "colorscale": [
             [
              0,
              "#0d0887"
             ],
             [
              0.1111111111111111,
              "#46039f"
             ],
             [
              0.2222222222222222,
              "#7201a8"
             ],
             [
              0.3333333333333333,
              "#9c179e"
             ],
             [
              0.4444444444444444,
              "#bd3786"
             ],
             [
              0.5555555555555556,
              "#d8576b"
             ],
             [
              0.6666666666666666,
              "#ed7953"
             ],
             [
              0.7777777777777778,
              "#fb9f3a"
             ],
             [
              0.8888888888888888,
              "#fdca26"
             ],
             [
              1,
              "#f0f921"
             ]
            ],
            "type": "histogram2dcontour"
           }
          ],
          "mesh3d": [
           {
            "colorbar": {
             "outlinewidth": 0,
             "ticks": ""
            },
            "type": "mesh3d"
           }
          ],
          "parcoords": [
           {
            "line": {
             "colorbar": {
              "outlinewidth": 0,
              "ticks": ""
             }
            },
            "type": "parcoords"
           }
          ],
          "pie": [
           {
            "automargin": true,
            "type": "pie"
           }
          ],
          "scatter": [
           {
            "fillpattern": {
             "fillmode": "overlay",
             "size": 10,
             "solidity": 0.2
            },
            "type": "scatter"
           }
          ],
          "scatter3d": [
           {
            "line": {
             "colorbar": {
              "outlinewidth": 0,
              "ticks": ""
             }
            },
            "marker": {
             "colorbar": {
              "outlinewidth": 0,
              "ticks": ""
             }
            },
            "type": "scatter3d"
           }
          ],
          "scattercarpet": [
           {
            "marker": {
             "colorbar": {
              "outlinewidth": 0,
              "ticks": ""
             }
            },
            "type": "scattercarpet"
           }
          ],
          "scattergeo": [
           {
            "marker": {
             "colorbar": {
              "outlinewidth": 0,
              "ticks": ""
             }
            },
            "type": "scattergeo"
           }
          ],
          "scattergl": [
           {
            "marker": {
             "colorbar": {
              "outlinewidth": 0,
              "ticks": ""
             }
            },
            "type": "scattergl"
           }
          ],
          "scattermapbox": [
           {
            "marker": {
             "colorbar": {
              "outlinewidth": 0,
              "ticks": ""
             }
            },
            "type": "scattermapbox"
           }
          ],
          "scatterpolar": [
           {
            "marker": {
             "colorbar": {
              "outlinewidth": 0,
              "ticks": ""
             }
            },
            "type": "scatterpolar"
           }
          ],
          "scatterpolargl": [
           {
            "marker": {
             "colorbar": {
              "outlinewidth": 0,
              "ticks": ""
             }
            },
            "type": "scatterpolargl"
           }
          ],
          "scatterternary": [
           {
            "marker": {
             "colorbar": {
              "outlinewidth": 0,
              "ticks": ""
             }
            },
            "type": "scatterternary"
           }
          ],
          "surface": [
           {
            "colorbar": {
             "outlinewidth": 0,
             "ticks": ""
            },
            "colorscale": [
             [
              0,
              "#0d0887"
             ],
             [
              0.1111111111111111,
              "#46039f"
             ],
             [
              0.2222222222222222,
              "#7201a8"
             ],
             [
              0.3333333333333333,
              "#9c179e"
             ],
             [
              0.4444444444444444,
              "#bd3786"
             ],
             [
              0.5555555555555556,
              "#d8576b"
             ],
             [
              0.6666666666666666,
              "#ed7953"
             ],
             [
              0.7777777777777778,
              "#fb9f3a"
             ],
             [
              0.8888888888888888,
              "#fdca26"
             ],
             [
              1,
              "#f0f921"
             ]
            ],
            "type": "surface"
           }
          ],
          "table": [
           {
            "cells": {
             "fill": {
              "color": "#EBF0F8"
             },
             "line": {
              "color": "white"
             }
            },
            "header": {
             "fill": {
              "color": "#C8D4E3"
             },
             "line": {
              "color": "white"
             }
            },
            "type": "table"
           }
          ]
         },
         "layout": {
          "annotationdefaults": {
           "arrowcolor": "#2a3f5f",
           "arrowhead": 0,
           "arrowwidth": 1
          },
          "autotypenumbers": "strict",
          "coloraxis": {
           "colorbar": {
            "outlinewidth": 0,
            "ticks": ""
           }
          },
          "colorscale": {
           "diverging": [
            [
             0,
             "#8e0152"
            ],
            [
             0.1,
             "#c51b7d"
            ],
            [
             0.2,
             "#de77ae"
            ],
            [
             0.3,
             "#f1b6da"
            ],
            [
             0.4,
             "#fde0ef"
            ],
            [
             0.5,
             "#f7f7f7"
            ],
            [
             0.6,
             "#e6f5d0"
            ],
            [
             0.7,
             "#b8e186"
            ],
            [
             0.8,
             "#7fbc41"
            ],
            [
             0.9,
             "#4d9221"
            ],
            [
             1,
             "#276419"
            ]
           ],
           "sequential": [
            [
             0,
             "#0d0887"
            ],
            [
             0.1111111111111111,
             "#46039f"
            ],
            [
             0.2222222222222222,
             "#7201a8"
            ],
            [
             0.3333333333333333,
             "#9c179e"
            ],
            [
             0.4444444444444444,
             "#bd3786"
            ],
            [
             0.5555555555555556,
             "#d8576b"
            ],
            [
             0.6666666666666666,
             "#ed7953"
            ],
            [
             0.7777777777777778,
             "#fb9f3a"
            ],
            [
             0.8888888888888888,
             "#fdca26"
            ],
            [
             1,
             "#f0f921"
            ]
           ],
           "sequentialminus": [
            [
             0,
             "#0d0887"
            ],
            [
             0.1111111111111111,
             "#46039f"
            ],
            [
             0.2222222222222222,
             "#7201a8"
            ],
            [
             0.3333333333333333,
             "#9c179e"
            ],
            [
             0.4444444444444444,
             "#bd3786"
            ],
            [
             0.5555555555555556,
             "#d8576b"
            ],
            [
             0.6666666666666666,
             "#ed7953"
            ],
            [
             0.7777777777777778,
             "#fb9f3a"
            ],
            [
             0.8888888888888888,
             "#fdca26"
            ],
            [
             1,
             "#f0f921"
            ]
           ]
          },
          "colorway": [
           "#636efa",
           "#EF553B",
           "#00cc96",
           "#ab63fa",
           "#FFA15A",
           "#19d3f3",
           "#FF6692",
           "#B6E880",
           "#FF97FF",
           "#FECB52"
          ],
          "font": {
           "color": "#2a3f5f"
          },
          "geo": {
           "bgcolor": "white",
           "lakecolor": "white",
           "landcolor": "#E5ECF6",
           "showlakes": true,
           "showland": true,
           "subunitcolor": "white"
          },
          "hoverlabel": {
           "align": "left"
          },
          "hovermode": "closest",
          "mapbox": {
           "style": "light"
          },
          "paper_bgcolor": "white",
          "plot_bgcolor": "#E5ECF6",
          "polar": {
           "angularaxis": {
            "gridcolor": "white",
            "linecolor": "white",
            "ticks": ""
           },
           "bgcolor": "#E5ECF6",
           "radialaxis": {
            "gridcolor": "white",
            "linecolor": "white",
            "ticks": ""
           }
          },
          "scene": {
           "xaxis": {
            "backgroundcolor": "#E5ECF6",
            "gridcolor": "white",
            "gridwidth": 2,
            "linecolor": "white",
            "showbackground": true,
            "ticks": "",
            "zerolinecolor": "white"
           },
           "yaxis": {
            "backgroundcolor": "#E5ECF6",
            "gridcolor": "white",
            "gridwidth": 2,
            "linecolor": "white",
            "showbackground": true,
            "ticks": "",
            "zerolinecolor": "white"
           },
           "zaxis": {
            "backgroundcolor": "#E5ECF6",
            "gridcolor": "white",
            "gridwidth": 2,
            "linecolor": "white",
            "showbackground": true,
            "ticks": "",
            "zerolinecolor": "white"
           }
          },
          "shapedefaults": {
           "line": {
            "color": "#2a3f5f"
           }
          },
          "ternary": {
           "aaxis": {
            "gridcolor": "white",
            "linecolor": "white",
            "ticks": ""
           },
           "baxis": {
            "gridcolor": "white",
            "linecolor": "white",
            "ticks": ""
           },
           "bgcolor": "#E5ECF6",
           "caxis": {
            "gridcolor": "white",
            "linecolor": "white",
            "ticks": ""
           }
          },
          "title": {
           "x": 0.05
          },
          "xaxis": {
           "automargin": true,
           "gridcolor": "white",
           "linecolor": "white",
           "ticks": "",
           "title": {
            "standoff": 15
           },
           "zerolinecolor": "white",
           "zerolinewidth": 2
          },
          "yaxis": {
           "automargin": true,
           "gridcolor": "white",
           "linecolor": "white",
           "ticks": "",
           "title": {
            "standoff": 15
           },
           "zerolinecolor": "white",
           "zerolinewidth": 2
          }
         }
        },
        "title": {
         "text": "Crude oil export above 80% of production"
        }
       }
      },
      "text/html": [
       "<div>                            <div id=\"0518fb2f-de80-4c6f-8839-2886159f5d6d\" class=\"plotly-graph-div\" style=\"height:525px; width:100%;\"></div>            <script type=\"text/javascript\">                require([\"plotly\"], function(Plotly) {                    window.PLOTLYENV=window.PLOTLYENV || {};                                    if (document.getElementById(\"0518fb2f-de80-4c6f-8839-2886159f5d6d\")) {                    Plotly.newPlot(                        \"0518fb2f-de80-4c6f-8839-2886159f5d6d\",                        [{\"line\":{\"color\":\"forestgreen\",\"dash\":\"dot\",\"width\":3},\"mode\":\"lines+markers+text\",\"text\":[12.0,5.0,1.0,1.0,11.0,12.0,8.0,2.0,3.0],\"textfont\":{\"size\":13},\"textposition\":\"top center\",\"x\":[\"2006\",\"2007\",\"2008\",\"2009\",\"2010\",\"2011\",\"2012\",\"2013\",\"2014\"],\"y\":[12,5,1,1,11,12,8,2,3],\"type\":\"scatter\"}],                        {\"template\":{\"data\":{\"histogram2dcontour\":[{\"type\":\"histogram2dcontour\",\"colorbar\":{\"outlinewidth\":0,\"ticks\":\"\"},\"colorscale\":[[0.0,\"#0d0887\"],[0.1111111111111111,\"#46039f\"],[0.2222222222222222,\"#7201a8\"],[0.3333333333333333,\"#9c179e\"],[0.4444444444444444,\"#bd3786\"],[0.5555555555555556,\"#d8576b\"],[0.6666666666666666,\"#ed7953\"],[0.7777777777777778,\"#fb9f3a\"],[0.8888888888888888,\"#fdca26\"],[1.0,\"#f0f921\"]]}],\"choropleth\":[{\"type\":\"choropleth\",\"colorbar\":{\"outlinewidth\":0,\"ticks\":\"\"}}],\"histogram2d\":[{\"type\":\"histogram2d\",\"colorbar\":{\"outlinewidth\":0,\"ticks\":\"\"},\"colorscale\":[[0.0,\"#0d0887\"],[0.1111111111111111,\"#46039f\"],[0.2222222222222222,\"#7201a8\"],[0.3333333333333333,\"#9c179e\"],[0.4444444444444444,\"#bd3786\"],[0.5555555555555556,\"#d8576b\"],[0.6666666666666666,\"#ed7953\"],[0.7777777777777778,\"#fb9f3a\"],[0.8888888888888888,\"#fdca26\"],[1.0,\"#f0f921\"]]}],\"heatmap\":[{\"type\":\"heatmap\",\"colorbar\":{\"outlinewidth\":0,\"ticks\":\"\"},\"colorscale\":[[0.0,\"#0d0887\"],[0.1111111111111111,\"#46039f\"],[0.2222222222222222,\"#7201a8\"],[0.3333333333333333,\"#9c179e\"],[0.4444444444444444,\"#bd3786\"],[0.5555555555555556,\"#d8576b\"],[0.6666666666666666,\"#ed7953\"],[0.7777777777777778,\"#fb9f3a\"],[0.8888888888888888,\"#fdca26\"],[1.0,\"#f0f921\"]]}],\"heatmapgl\":[{\"type\":\"heatmapgl\",\"colorbar\":{\"outlinewidth\":0,\"ticks\":\"\"},\"colorscale\":[[0.0,\"#0d0887\"],[0.1111111111111111,\"#46039f\"],[0.2222222222222222,\"#7201a8\"],[0.3333333333333333,\"#9c179e\"],[0.4444444444444444,\"#bd3786\"],[0.5555555555555556,\"#d8576b\"],[0.6666666666666666,\"#ed7953\"],[0.7777777777777778,\"#fb9f3a\"],[0.8888888888888888,\"#fdca26\"],[1.0,\"#f0f921\"]]}],\"contourcarpet\":[{\"type\":\"contourcarpet\",\"colorbar\":{\"outlinewidth\":0,\"ticks\":\"\"}}],\"contour\":[{\"type\":\"contour\",\"colorbar\":{\"outlinewidth\":0,\"ticks\":\"\"},\"colorscale\":[[0.0,\"#0d0887\"],[0.1111111111111111,\"#46039f\"],[0.2222222222222222,\"#7201a8\"],[0.3333333333333333,\"#9c179e\"],[0.4444444444444444,\"#bd3786\"],[0.5555555555555556,\"#d8576b\"],[0.6666666666666666,\"#ed7953\"],[0.7777777777777778,\"#fb9f3a\"],[0.8888888888888888,\"#fdca26\"],[1.0,\"#f0f921\"]]}],\"surface\":[{\"type\":\"surface\",\"colorbar\":{\"outlinewidth\":0,\"ticks\":\"\"},\"colorscale\":[[0.0,\"#0d0887\"],[0.1111111111111111,\"#46039f\"],[0.2222222222222222,\"#7201a8\"],[0.3333333333333333,\"#9c179e\"],[0.4444444444444444,\"#bd3786\"],[0.5555555555555556,\"#d8576b\"],[0.6666666666666666,\"#ed7953\"],[0.7777777777777778,\"#fb9f3a\"],[0.8888888888888888,\"#fdca26\"],[1.0,\"#f0f921\"]]}],\"mesh3d\":[{\"type\":\"mesh3d\",\"colorbar\":{\"outlinewidth\":0,\"ticks\":\"\"}}],\"scatter\":[{\"fillpattern\":{\"fillmode\":\"overlay\",\"size\":10,\"solidity\":0.2},\"type\":\"scatter\"}],\"parcoords\":[{\"type\":\"parcoords\",\"line\":{\"colorbar\":{\"outlinewidth\":0,\"ticks\":\"\"}}}],\"scatterpolargl\":[{\"type\":\"scatterpolargl\",\"marker\":{\"colorbar\":{\"outlinewidth\":0,\"ticks\":\"\"}}}],\"bar\":[{\"error_x\":{\"color\":\"#2a3f5f\"},\"error_y\":{\"color\":\"#2a3f5f\"},\"marker\":{\"line\":{\"color\":\"#E5ECF6\",\"width\":0.5},\"pattern\":{\"fillmode\":\"overlay\",\"size\":10,\"solidity\":0.2}},\"type\":\"bar\"}],\"scattergeo\":[{\"type\":\"scattergeo\",\"marker\":{\"colorbar\":{\"outlinewidth\":0,\"ticks\":\"\"}}}],\"scatterpolar\":[{\"type\":\"scatterpolar\",\"marker\":{\"colorbar\":{\"outlinewidth\":0,\"ticks\":\"\"}}}],\"histogram\":[{\"marker\":{\"pattern\":{\"fillmode\":\"overlay\",\"size\":10,\"solidity\":0.2}},\"type\":\"histogram\"}],\"scattergl\":[{\"type\":\"scattergl\",\"marker\":{\"colorbar\":{\"outlinewidth\":0,\"ticks\":\"\"}}}],\"scatter3d\":[{\"type\":\"scatter3d\",\"line\":{\"colorbar\":{\"outlinewidth\":0,\"ticks\":\"\"}},\"marker\":{\"colorbar\":{\"outlinewidth\":0,\"ticks\":\"\"}}}],\"scattermapbox\":[{\"type\":\"scattermapbox\",\"marker\":{\"colorbar\":{\"outlinewidth\":0,\"ticks\":\"\"}}}],\"scatterternary\":[{\"type\":\"scatterternary\",\"marker\":{\"colorbar\":{\"outlinewidth\":0,\"ticks\":\"\"}}}],\"scattercarpet\":[{\"type\":\"scattercarpet\",\"marker\":{\"colorbar\":{\"outlinewidth\":0,\"ticks\":\"\"}}}],\"carpet\":[{\"aaxis\":{\"endlinecolor\":\"#2a3f5f\",\"gridcolor\":\"white\",\"linecolor\":\"white\",\"minorgridcolor\":\"white\",\"startlinecolor\":\"#2a3f5f\"},\"baxis\":{\"endlinecolor\":\"#2a3f5f\",\"gridcolor\":\"white\",\"linecolor\":\"white\",\"minorgridcolor\":\"white\",\"startlinecolor\":\"#2a3f5f\"},\"type\":\"carpet\"}],\"table\":[{\"cells\":{\"fill\":{\"color\":\"#EBF0F8\"},\"line\":{\"color\":\"white\"}},\"header\":{\"fill\":{\"color\":\"#C8D4E3\"},\"line\":{\"color\":\"white\"}},\"type\":\"table\"}],\"barpolar\":[{\"marker\":{\"line\":{\"color\":\"#E5ECF6\",\"width\":0.5},\"pattern\":{\"fillmode\":\"overlay\",\"size\":10,\"solidity\":0.2}},\"type\":\"barpolar\"}],\"pie\":[{\"automargin\":true,\"type\":\"pie\"}]},\"layout\":{\"autotypenumbers\":\"strict\",\"colorway\":[\"#636efa\",\"#EF553B\",\"#00cc96\",\"#ab63fa\",\"#FFA15A\",\"#19d3f3\",\"#FF6692\",\"#B6E880\",\"#FF97FF\",\"#FECB52\"],\"font\":{\"color\":\"#2a3f5f\"},\"hovermode\":\"closest\",\"hoverlabel\":{\"align\":\"left\"},\"paper_bgcolor\":\"white\",\"plot_bgcolor\":\"#E5ECF6\",\"polar\":{\"bgcolor\":\"#E5ECF6\",\"angularaxis\":{\"gridcolor\":\"white\",\"linecolor\":\"white\",\"ticks\":\"\"},\"radialaxis\":{\"gridcolor\":\"white\",\"linecolor\":\"white\",\"ticks\":\"\"}},\"ternary\":{\"bgcolor\":\"#E5ECF6\",\"aaxis\":{\"gridcolor\":\"white\",\"linecolor\":\"white\",\"ticks\":\"\"},\"baxis\":{\"gridcolor\":\"white\",\"linecolor\":\"white\",\"ticks\":\"\"},\"caxis\":{\"gridcolor\":\"white\",\"linecolor\":\"white\",\"ticks\":\"\"}},\"coloraxis\":{\"colorbar\":{\"outlinewidth\":0,\"ticks\":\"\"}},\"colorscale\":{\"sequential\":[[0.0,\"#0d0887\"],[0.1111111111111111,\"#46039f\"],[0.2222222222222222,\"#7201a8\"],[0.3333333333333333,\"#9c179e\"],[0.4444444444444444,\"#bd3786\"],[0.5555555555555556,\"#d8576b\"],[0.6666666666666666,\"#ed7953\"],[0.7777777777777778,\"#fb9f3a\"],[0.8888888888888888,\"#fdca26\"],[1.0,\"#f0f921\"]],\"sequentialminus\":[[0.0,\"#0d0887\"],[0.1111111111111111,\"#46039f\"],[0.2222222222222222,\"#7201a8\"],[0.3333333333333333,\"#9c179e\"],[0.4444444444444444,\"#bd3786\"],[0.5555555555555556,\"#d8576b\"],[0.6666666666666666,\"#ed7953\"],[0.7777777777777778,\"#fb9f3a\"],[0.8888888888888888,\"#fdca26\"],[1.0,\"#f0f921\"]],\"diverging\":[[0,\"#8e0152\"],[0.1,\"#c51b7d\"],[0.2,\"#de77ae\"],[0.3,\"#f1b6da\"],[0.4,\"#fde0ef\"],[0.5,\"#f7f7f7\"],[0.6,\"#e6f5d0\"],[0.7,\"#b8e186\"],[0.8,\"#7fbc41\"],[0.9,\"#4d9221\"],[1,\"#276419\"]]},\"xaxis\":{\"gridcolor\":\"white\",\"linecolor\":\"white\",\"ticks\":\"\",\"title\":{\"standoff\":15},\"zerolinecolor\":\"white\",\"automargin\":true,\"zerolinewidth\":2},\"yaxis\":{\"gridcolor\":\"white\",\"linecolor\":\"white\",\"ticks\":\"\",\"title\":{\"standoff\":15},\"zerolinecolor\":\"white\",\"automargin\":true,\"zerolinewidth\":2},\"scene\":{\"xaxis\":{\"backgroundcolor\":\"#E5ECF6\",\"gridcolor\":\"white\",\"linecolor\":\"white\",\"showbackground\":true,\"ticks\":\"\",\"zerolinecolor\":\"white\",\"gridwidth\":2},\"yaxis\":{\"backgroundcolor\":\"#E5ECF6\",\"gridcolor\":\"white\",\"linecolor\":\"white\",\"showbackground\":true,\"ticks\":\"\",\"zerolinecolor\":\"white\",\"gridwidth\":2},\"zaxis\":{\"backgroundcolor\":\"#E5ECF6\",\"gridcolor\":\"white\",\"linecolor\":\"white\",\"showbackground\":true,\"ticks\":\"\",\"zerolinecolor\":\"white\",\"gridwidth\":2}},\"shapedefaults\":{\"line\":{\"color\":\"#2a3f5f\"}},\"annotationdefaults\":{\"arrowcolor\":\"#2a3f5f\",\"arrowhead\":0,\"arrowwidth\":1},\"geo\":{\"bgcolor\":\"white\",\"landcolor\":\"#E5ECF6\",\"subunitcolor\":\"white\",\"showland\":true,\"showlakes\":true,\"lakecolor\":\"white\"},\"title\":{\"x\":0.05},\"mapbox\":{\"style\":\"light\"}}},\"title\":{\"text\":\"Crude oil export above 80% of production\"}},                        {\"responsive\": true}                    ).then(function(){\n",
       "                            \n",
       "var gd = document.getElementById('0518fb2f-de80-4c6f-8839-2886159f5d6d');\n",
       "var x = new MutationObserver(function (mutations, observer) {{\n",
       "        var display = window.getComputedStyle(gd).display;\n",
       "        if (!display || display === 'none') {{\n",
       "            console.log([gd, 'removed!']);\n",
       "            Plotly.purge(gd);\n",
       "            observer.disconnect();\n",
       "        }}\n",
       "}});\n",
       "\n",
       "// Listen for the removal of the full notebook cells\n",
       "var notebookContainer = gd.closest('#notebook-container');\n",
       "if (notebookContainer) {{\n",
       "    x.observe(notebookContainer, {childList: true});\n",
       "}}\n",
       "\n",
       "// Listen for the clearing of the current output cell\n",
       "var outputEl = gd.closest('.output');\n",
       "if (outputEl) {{\n",
       "    x.observe(outputEl, {childList: true});\n",
       "}}\n",
       "\n",
       "                        })                };                });            </script>        </div>"
      ]
     },
     "metadata": {},
     "output_type": "display_data"
    }
   ],
   "source": [
    "query = \"\"\"\n",
    "  SELECT year AS Year, COUNT(*) AS Export_Count\n",
    "    FROM (\n",
    "          SELECT production, year, crude_oil_export, 0.8 * production AS fifty_perc_prod\n",
    "          FROM crudeOilPrice)\n",
    "   WHERE crude_oil_export >= fifty_perc_prod\n",
    "GROUP BY Year\n",
    "\"\"\"\n",
    "sqlDF = pd.read_sql_query(query, conn, index_col='Year')\n",
    "print(sqlDF)\n",
    "\n",
    "fig = go.Figure()\n",
    "fig.add_trace(go.Scatter(x=sqlDF.index, y=sqlDF.Export_Count,\n",
    "                            mode= 'lines+markers+text',\n",
    "                            text= sqlDF.Export_Count, textposition='top center',\n",
    "                            line=dict(color='forestgreen', \n",
    "                                        width=3, dash='dot'),\n",
    "                            textfont=dict(size=13)))\n",
    "fig.update_layout(title='Crude oil export above 80% of production')"
   ]
  },
  {
   "cell_type": "markdown",
   "metadata": {},
   "source": [
    "It turns out that the last time oil was exported above 80% of production was in 2014. \n",
    "\n",
    "And its only in 2006 and 2011 that 80% of produced oil was exported in all months.\n",
    "\n",
    "### How has production and price change with three years gap?\n",
    "**Price Difference**"
   ]
  },
  {
   "cell_type": "code",
   "execution_count": 15,
   "metadata": {},
   "outputs": [
    {
     "data": {
      "text/html": [
       "<div>\n",
       "<style scoped>\n",
       "    .dataframe tbody tr th:only-of-type {\n",
       "        vertical-align: middle;\n",
       "    }\n",
       "\n",
       "    .dataframe tbody tr th {\n",
       "        vertical-align: top;\n",
       "    }\n",
       "\n",
       "    .dataframe thead th {\n",
       "        text-align: right;\n",
       "    }\n",
       "</style>\n",
       "<table border=\"1\" class=\"dataframe\">\n",
       "  <thead>\n",
       "    <tr style=\"text-align: right;\">\n",
       "      <th></th>\n",
       "      <th>Price2006</th>\n",
       "      <th>Price2009</th>\n",
       "      <th>Price2012</th>\n",
       "      <th>Price2015</th>\n",
       "      <th>Price2018</th>\n",
       "      <th>Price2021</th>\n",
       "    </tr>\n",
       "    <tr>\n",
       "      <th>month</th>\n",
       "      <th></th>\n",
       "      <th></th>\n",
       "      <th></th>\n",
       "      <th></th>\n",
       "      <th></th>\n",
       "      <th></th>\n",
       "    </tr>\n",
       "  </thead>\n",
       "  <tbody>\n",
       "    <tr>\n",
       "      <th>January</th>\n",
       "      <td>63.85</td>\n",
       "      <td>44.95</td>\n",
       "      <td>113.81</td>\n",
       "      <td>48.81</td>\n",
       "      <td>69.68</td>\n",
       "      <td>54.87</td>\n",
       "    </tr>\n",
       "    <tr>\n",
       "      <th>February</th>\n",
       "      <td>61.33</td>\n",
       "      <td>46.52</td>\n",
       "      <td>121.87</td>\n",
       "      <td>58.09</td>\n",
       "      <td>66.67</td>\n",
       "      <td>62.48</td>\n",
       "    </tr>\n",
       "    <tr>\n",
       "      <th>March</th>\n",
       "      <td>65.00</td>\n",
       "      <td>49.70</td>\n",
       "      <td>128.00</td>\n",
       "      <td>56.69</td>\n",
       "      <td>74.72</td>\n",
       "      <td>65.62</td>\n",
       "    </tr>\n",
       "    <tr>\n",
       "      <th>April</th>\n",
       "      <td>72.09</td>\n",
       "      <td>51.16</td>\n",
       "      <td>122.62</td>\n",
       "      <td>57.45</td>\n",
       "      <td>72.37</td>\n",
       "      <td>64.30</td>\n",
       "    </tr>\n",
       "    <tr>\n",
       "      <th>May</th>\n",
       "      <td>71.18</td>\n",
       "      <td>60.02</td>\n",
       "      <td>113.08</td>\n",
       "      <td>65.08</td>\n",
       "      <td>77.64</td>\n",
       "      <td>67.83</td>\n",
       "    </tr>\n",
       "    <tr>\n",
       "      <th>June</th>\n",
       "      <td>69.32</td>\n",
       "      <td>72.24</td>\n",
       "      <td>98.06</td>\n",
       "      <td>62.06</td>\n",
       "      <td>75.38</td>\n",
       "      <td>73.46</td>\n",
       "    </tr>\n",
       "    <tr>\n",
       "      <th>July</th>\n",
       "      <td>75.13</td>\n",
       "      <td>66.52</td>\n",
       "      <td>104.62</td>\n",
       "      <td>57.01</td>\n",
       "      <td>74.72</td>\n",
       "      <td>75.93</td>\n",
       "    </tr>\n",
       "    <tr>\n",
       "      <th>August</th>\n",
       "      <td>75.15</td>\n",
       "      <td>74.00</td>\n",
       "      <td>113.76</td>\n",
       "      <td>47.09</td>\n",
       "      <td>73.35</td>\n",
       "      <td>70.72</td>\n",
       "    </tr>\n",
       "    <tr>\n",
       "      <th>September</th>\n",
       "      <td>62.97</td>\n",
       "      <td>70.22</td>\n",
       "      <td>114.36</td>\n",
       "      <td>48.08</td>\n",
       "      <td>79.59</td>\n",
       "      <td>74.55</td>\n",
       "    </tr>\n",
       "    <tr>\n",
       "      <th>October</th>\n",
       "      <td>59.49</td>\n",
       "      <td>78.25</td>\n",
       "      <td>108.92</td>\n",
       "      <td>48.86</td>\n",
       "      <td>79.18</td>\n",
       "      <td>84.11</td>\n",
       "    </tr>\n",
       "    <tr>\n",
       "      <th>November</th>\n",
       "      <td>59.81</td>\n",
       "      <td>78.11</td>\n",
       "      <td>111.05</td>\n",
       "      <td>44.82</td>\n",
       "      <td>66.59</td>\n",
       "      <td>82.16</td>\n",
       "    </tr>\n",
       "    <tr>\n",
       "      <th>December</th>\n",
       "      <td>64.70</td>\n",
       "      <td>75.11</td>\n",
       "      <td>114.49</td>\n",
       "      <td>37.80</td>\n",
       "      <td>62.00</td>\n",
       "      <td>65.41</td>\n",
       "    </tr>\n",
       "  </tbody>\n",
       "</table>\n",
       "</div>"
      ],
      "text/plain": [
       "           Price2006  Price2009  Price2012  Price2015  Price2018  Price2021\n",
       "month                                                                      \n",
       "January        63.85      44.95     113.81      48.81      69.68      54.87\n",
       "February       61.33      46.52     121.87      58.09      66.67      62.48\n",
       "March          65.00      49.70     128.00      56.69      74.72      65.62\n",
       "April          72.09      51.16     122.62      57.45      72.37      64.30\n",
       "May            71.18      60.02     113.08      65.08      77.64      67.83\n",
       "June           69.32      72.24      98.06      62.06      75.38      73.46\n",
       "July           75.13      66.52     104.62      57.01      74.72      75.93\n",
       "August         75.15      74.00     113.76      47.09      73.35      70.72\n",
       "September      62.97      70.22     114.36      48.08      79.59      74.55\n",
       "October        59.49      78.25     108.92      48.86      79.18      84.11\n",
       "November       59.81      78.11     111.05      44.82      66.59      82.16\n",
       "December       64.70      75.11     114.49      37.80      62.00      65.41"
      ]
     },
     "execution_count": 15,
     "metadata": {},
     "output_type": "execute_result"
    }
   ],
   "source": [
    "month_order = ['January', 'February', 'March', 'April', 'May', 'June', \n",
    "               'July', 'August', 'September', 'October', 'November', 'December']\n",
    "month_short = ['Jan', 'Feb', 'Mar', 'Apr', 'May', 'Jun', 'Jul', 'Aug', 'Sep', 'Oct', 'Nov', 'Dec']\n",
    "query = \"\"\"\n",
    "WITH first AS (\n",
    "    SELECT  c1.month, c1.crude_oil_price AS Price2006, c2.crude_oil_price AS Price2009\n",
    "      FROM  crudeOilPrice AS c1\n",
    "INNER JOIN  crudeOilPrice AS c2\n",
    "        ON  c1.month = c2.month\n",
    "     WHERE  c1.year = 2006 AND c2.year = c1.year + 3),\n",
    "\n",
    "sec AS (\n",
    "    SELECT  c1.month, c1.crude_oil_price AS Price2012, c2.crude_oil_price AS Price2015\n",
    "      FROM  crudeOilPrice AS c1\n",
    "INNER JOIN  crudeOilPrice AS c2\n",
    "        ON  c1.month = c2.month\n",
    "     WHERE  c1.year = 2012 AND c2.year = c1.year + 3),\n",
    "\n",
    "third AS (\n",
    "    SELECT  c1.month, c1.crude_oil_price AS Price2018, c2.crude_oil_price AS Price2021\n",
    "      FROM  crudeOilPrice AS c1\n",
    "INNER JOIN  crudeOilPrice AS c2\n",
    "        ON  c1.month = c2.month\n",
    "     WHERE  c1.year = 2018 AND c2.year = c1.year + 3)\n",
    "     \n",
    "    SELECT  f.month, f.Price2006, f.Price2009, s.Price2012, s.Price2015, t.Price2018, t.Price2021\n",
    "      FROM  first AS f\n",
    " LEFT JOIN  sec AS s\n",
    "     USING  (month)\n",
    " LEFT JOIN  third AS t\n",
    "     USING  (month)\n",
    "\"\"\"\n",
    "\n",
    "sqlDF = pd.read_sql_query(query, conn, index_col='month').reindex(month_order)\n",
    "sqlDF"
   ]
  },
  {
   "cell_type": "code",
   "execution_count": 16,
   "metadata": {},
   "outputs": [
    {
     "data": {
      "application/vnd.plotly.v1+json": {
       "config": {
        "plotlyServerURL": "https://plot.ly"
       },
       "data": [
        {
         "line": {
          "color": "firebrick",
          "dash": "dot",
          "width": 3
         },
         "name": "2006 Price",
         "type": "scatter",
         "x": [
          "January",
          "February",
          "March",
          "April",
          "May",
          "June",
          "July",
          "August",
          "September",
          "October",
          "November",
          "December"
         ],
         "y": [
          63.85,
          61.33,
          65,
          72.09,
          71.18,
          69.32,
          75.13,
          75.15,
          62.97,
          59.49,
          59.81,
          64.7
         ]
        },
        {
         "line": {
          "color": "royalblue",
          "dash": "dot",
          "width": 3
         },
         "name": "2009 Price",
         "type": "scatter",
         "x": [
          "January",
          "February",
          "March",
          "April",
          "May",
          "June",
          "July",
          "August",
          "September",
          "October",
          "November",
          "December"
         ],
         "y": [
          44.95,
          46.52,
          49.7,
          51.16,
          60.02,
          72.24,
          66.52,
          74,
          70.22,
          78.25,
          78.11,
          75.11
         ]
        },
        {
         "line": {
          "color": "goldenrod",
          "dash": "dot",
          "width": 3
         },
         "name": "2012 Price",
         "type": "scatter",
         "x": [
          "January",
          "February",
          "March",
          "April",
          "May",
          "June",
          "July",
          "August",
          "September",
          "October",
          "November",
          "December"
         ],
         "y": [
          113.81,
          121.87,
          128,
          122.62,
          113.08,
          98.06,
          104.62,
          113.76,
          114.36,
          108.92,
          111.05,
          114.49
         ]
        },
        {
         "line": {
          "color": "darkturquoise",
          "dash": "dot",
          "width": 3
         },
         "name": "2015 Price",
         "type": "scatter",
         "x": [
          "January",
          "February",
          "March",
          "April",
          "May",
          "June",
          "July",
          "August",
          "September",
          "October",
          "November",
          "December"
         ],
         "y": [
          48.81,
          58.09,
          56.69,
          57.45,
          65.08,
          62.06,
          57.01,
          47.09,
          48.08,
          48.86,
          44.82,
          37.8
         ]
        },
        {
         "line": {
          "color": "forestgreen",
          "dash": "dot",
          "width": 3
         },
         "name": "2018 Price",
         "type": "scatter",
         "x": [
          "January",
          "February",
          "March",
          "April",
          "May",
          "June",
          "July",
          "August",
          "September",
          "October",
          "November",
          "December"
         ],
         "y": [
          69.68,
          66.67,
          74.72,
          72.37,
          77.64,
          75.38,
          74.72,
          73.35,
          79.59,
          79.18,
          66.59,
          62
         ]
        },
        {
         "line": {
          "color": "darkgrey",
          "dash": "dot",
          "width": 3
         },
         "name": "2021 Price",
         "type": "scatter",
         "x": [
          "January",
          "February",
          "March",
          "April",
          "May",
          "June",
          "July",
          "August",
          "September",
          "October",
          "November",
          "December"
         ],
         "y": [
          54.87,
          62.48,
          65.62,
          64.3,
          67.83,
          73.46,
          75.93,
          70.72,
          74.55,
          84.11,
          82.16,
          65.41
         ]
        }
       ],
       "layout": {
        "template": {
         "data": {
          "bar": [
           {
            "error_x": {
             "color": "#2a3f5f"
            },
            "error_y": {
             "color": "#2a3f5f"
            },
            "marker": {
             "line": {
              "color": "#E5ECF6",
              "width": 0.5
             },
             "pattern": {
              "fillmode": "overlay",
              "size": 10,
              "solidity": 0.2
             }
            },
            "type": "bar"
           }
          ],
          "barpolar": [
           {
            "marker": {
             "line": {
              "color": "#E5ECF6",
              "width": 0.5
             },
             "pattern": {
              "fillmode": "overlay",
              "size": 10,
              "solidity": 0.2
             }
            },
            "type": "barpolar"
           }
          ],
          "carpet": [
           {
            "aaxis": {
             "endlinecolor": "#2a3f5f",
             "gridcolor": "white",
             "linecolor": "white",
             "minorgridcolor": "white",
             "startlinecolor": "#2a3f5f"
            },
            "baxis": {
             "endlinecolor": "#2a3f5f",
             "gridcolor": "white",
             "linecolor": "white",
             "minorgridcolor": "white",
             "startlinecolor": "#2a3f5f"
            },
            "type": "carpet"
           }
          ],
          "choropleth": [
           {
            "colorbar": {
             "outlinewidth": 0,
             "ticks": ""
            },
            "type": "choropleth"
           }
          ],
          "contour": [
           {
            "colorbar": {
             "outlinewidth": 0,
             "ticks": ""
            },
            "colorscale": [
             [
              0,
              "#0d0887"
             ],
             [
              0.1111111111111111,
              "#46039f"
             ],
             [
              0.2222222222222222,
              "#7201a8"
             ],
             [
              0.3333333333333333,
              "#9c179e"
             ],
             [
              0.4444444444444444,
              "#bd3786"
             ],
             [
              0.5555555555555556,
              "#d8576b"
             ],
             [
              0.6666666666666666,
              "#ed7953"
             ],
             [
              0.7777777777777778,
              "#fb9f3a"
             ],
             [
              0.8888888888888888,
              "#fdca26"
             ],
             [
              1,
              "#f0f921"
             ]
            ],
            "type": "contour"
           }
          ],
          "contourcarpet": [
           {
            "colorbar": {
             "outlinewidth": 0,
             "ticks": ""
            },
            "type": "contourcarpet"
           }
          ],
          "heatmap": [
           {
            "colorbar": {
             "outlinewidth": 0,
             "ticks": ""
            },
            "colorscale": [
             [
              0,
              "#0d0887"
             ],
             [
              0.1111111111111111,
              "#46039f"
             ],
             [
              0.2222222222222222,
              "#7201a8"
             ],
             [
              0.3333333333333333,
              "#9c179e"
             ],
             [
              0.4444444444444444,
              "#bd3786"
             ],
             [
              0.5555555555555556,
              "#d8576b"
             ],
             [
              0.6666666666666666,
              "#ed7953"
             ],
             [
              0.7777777777777778,
              "#fb9f3a"
             ],
             [
              0.8888888888888888,
              "#fdca26"
             ],
             [
              1,
              "#f0f921"
             ]
            ],
            "type": "heatmap"
           }
          ],
          "heatmapgl": [
           {
            "colorbar": {
             "outlinewidth": 0,
             "ticks": ""
            },
            "colorscale": [
             [
              0,
              "#0d0887"
             ],
             [
              0.1111111111111111,
              "#46039f"
             ],
             [
              0.2222222222222222,
              "#7201a8"
             ],
             [
              0.3333333333333333,
              "#9c179e"
             ],
             [
              0.4444444444444444,
              "#bd3786"
             ],
             [
              0.5555555555555556,
              "#d8576b"
             ],
             [
              0.6666666666666666,
              "#ed7953"
             ],
             [
              0.7777777777777778,
              "#fb9f3a"
             ],
             [
              0.8888888888888888,
              "#fdca26"
             ],
             [
              1,
              "#f0f921"
             ]
            ],
            "type": "heatmapgl"
           }
          ],
          "histogram": [
           {
            "marker": {
             "pattern": {
              "fillmode": "overlay",
              "size": 10,
              "solidity": 0.2
             }
            },
            "type": "histogram"
           }
          ],
          "histogram2d": [
           {
            "colorbar": {
             "outlinewidth": 0,
             "ticks": ""
            },
            "colorscale": [
             [
              0,
              "#0d0887"
             ],
             [
              0.1111111111111111,
              "#46039f"
             ],
             [
              0.2222222222222222,
              "#7201a8"
             ],
             [
              0.3333333333333333,
              "#9c179e"
             ],
             [
              0.4444444444444444,
              "#bd3786"
             ],
             [
              0.5555555555555556,
              "#d8576b"
             ],
             [
              0.6666666666666666,
              "#ed7953"
             ],
             [
              0.7777777777777778,
              "#fb9f3a"
             ],
             [
              0.8888888888888888,
              "#fdca26"
             ],
             [
              1,
              "#f0f921"
             ]
            ],
            "type": "histogram2d"
           }
          ],
          "histogram2dcontour": [
           {
            "colorbar": {
             "outlinewidth": 0,
             "ticks": ""
            },
            "colorscale": [
             [
              0,
              "#0d0887"
             ],
             [
              0.1111111111111111,
              "#46039f"
             ],
             [
              0.2222222222222222,
              "#7201a8"
             ],
             [
              0.3333333333333333,
              "#9c179e"
             ],
             [
              0.4444444444444444,
              "#bd3786"
             ],
             [
              0.5555555555555556,
              "#d8576b"
             ],
             [
              0.6666666666666666,
              "#ed7953"
             ],
             [
              0.7777777777777778,
              "#fb9f3a"
             ],
             [
              0.8888888888888888,
              "#fdca26"
             ],
             [
              1,
              "#f0f921"
             ]
            ],
            "type": "histogram2dcontour"
           }
          ],
          "mesh3d": [
           {
            "colorbar": {
             "outlinewidth": 0,
             "ticks": ""
            },
            "type": "mesh3d"
           }
          ],
          "parcoords": [
           {
            "line": {
             "colorbar": {
              "outlinewidth": 0,
              "ticks": ""
             }
            },
            "type": "parcoords"
           }
          ],
          "pie": [
           {
            "automargin": true,
            "type": "pie"
           }
          ],
          "scatter": [
           {
            "fillpattern": {
             "fillmode": "overlay",
             "size": 10,
             "solidity": 0.2
            },
            "type": "scatter"
           }
          ],
          "scatter3d": [
           {
            "line": {
             "colorbar": {
              "outlinewidth": 0,
              "ticks": ""
             }
            },
            "marker": {
             "colorbar": {
              "outlinewidth": 0,
              "ticks": ""
             }
            },
            "type": "scatter3d"
           }
          ],
          "scattercarpet": [
           {
            "marker": {
             "colorbar": {
              "outlinewidth": 0,
              "ticks": ""
             }
            },
            "type": "scattercarpet"
           }
          ],
          "scattergeo": [
           {
            "marker": {
             "colorbar": {
              "outlinewidth": 0,
              "ticks": ""
             }
            },
            "type": "scattergeo"
           }
          ],
          "scattergl": [
           {
            "marker": {
             "colorbar": {
              "outlinewidth": 0,
              "ticks": ""
             }
            },
            "type": "scattergl"
           }
          ],
          "scattermapbox": [
           {
            "marker": {
             "colorbar": {
              "outlinewidth": 0,
              "ticks": ""
             }
            },
            "type": "scattermapbox"
           }
          ],
          "scatterpolar": [
           {
            "marker": {
             "colorbar": {
              "outlinewidth": 0,
              "ticks": ""
             }
            },
            "type": "scatterpolar"
           }
          ],
          "scatterpolargl": [
           {
            "marker": {
             "colorbar": {
              "outlinewidth": 0,
              "ticks": ""
             }
            },
            "type": "scatterpolargl"
           }
          ],
          "scatterternary": [
           {
            "marker": {
             "colorbar": {
              "outlinewidth": 0,
              "ticks": ""
             }
            },
            "type": "scatterternary"
           }
          ],
          "surface": [
           {
            "colorbar": {
             "outlinewidth": 0,
             "ticks": ""
            },
            "colorscale": [
             [
              0,
              "#0d0887"
             ],
             [
              0.1111111111111111,
              "#46039f"
             ],
             [
              0.2222222222222222,
              "#7201a8"
             ],
             [
              0.3333333333333333,
              "#9c179e"
             ],
             [
              0.4444444444444444,
              "#bd3786"
             ],
             [
              0.5555555555555556,
              "#d8576b"
             ],
             [
              0.6666666666666666,
              "#ed7953"
             ],
             [
              0.7777777777777778,
              "#fb9f3a"
             ],
             [
              0.8888888888888888,
              "#fdca26"
             ],
             [
              1,
              "#f0f921"
             ]
            ],
            "type": "surface"
           }
          ],
          "table": [
           {
            "cells": {
             "fill": {
              "color": "#EBF0F8"
             },
             "line": {
              "color": "white"
             }
            },
            "header": {
             "fill": {
              "color": "#C8D4E3"
             },
             "line": {
              "color": "white"
             }
            },
            "type": "table"
           }
          ]
         },
         "layout": {
          "annotationdefaults": {
           "arrowcolor": "#2a3f5f",
           "arrowhead": 0,
           "arrowwidth": 1
          },
          "autotypenumbers": "strict",
          "coloraxis": {
           "colorbar": {
            "outlinewidth": 0,
            "ticks": ""
           }
          },
          "colorscale": {
           "diverging": [
            [
             0,
             "#8e0152"
            ],
            [
             0.1,
             "#c51b7d"
            ],
            [
             0.2,
             "#de77ae"
            ],
            [
             0.3,
             "#f1b6da"
            ],
            [
             0.4,
             "#fde0ef"
            ],
            [
             0.5,
             "#f7f7f7"
            ],
            [
             0.6,
             "#e6f5d0"
            ],
            [
             0.7,
             "#b8e186"
            ],
            [
             0.8,
             "#7fbc41"
            ],
            [
             0.9,
             "#4d9221"
            ],
            [
             1,
             "#276419"
            ]
           ],
           "sequential": [
            [
             0,
             "#0d0887"
            ],
            [
             0.1111111111111111,
             "#46039f"
            ],
            [
             0.2222222222222222,
             "#7201a8"
            ],
            [
             0.3333333333333333,
             "#9c179e"
            ],
            [
             0.4444444444444444,
             "#bd3786"
            ],
            [
             0.5555555555555556,
             "#d8576b"
            ],
            [
             0.6666666666666666,
             "#ed7953"
            ],
            [
             0.7777777777777778,
             "#fb9f3a"
            ],
            [
             0.8888888888888888,
             "#fdca26"
            ],
            [
             1,
             "#f0f921"
            ]
           ],
           "sequentialminus": [
            [
             0,
             "#0d0887"
            ],
            [
             0.1111111111111111,
             "#46039f"
            ],
            [
             0.2222222222222222,
             "#7201a8"
            ],
            [
             0.3333333333333333,
             "#9c179e"
            ],
            [
             0.4444444444444444,
             "#bd3786"
            ],
            [
             0.5555555555555556,
             "#d8576b"
            ],
            [
             0.6666666666666666,
             "#ed7953"
            ],
            [
             0.7777777777777778,
             "#fb9f3a"
            ],
            [
             0.8888888888888888,
             "#fdca26"
            ],
            [
             1,
             "#f0f921"
            ]
           ]
          },
          "colorway": [
           "#636efa",
           "#EF553B",
           "#00cc96",
           "#ab63fa",
           "#FFA15A",
           "#19d3f3",
           "#FF6692",
           "#B6E880",
           "#FF97FF",
           "#FECB52"
          ],
          "font": {
           "color": "#2a3f5f"
          },
          "geo": {
           "bgcolor": "white",
           "lakecolor": "white",
           "landcolor": "#E5ECF6",
           "showlakes": true,
           "showland": true,
           "subunitcolor": "white"
          },
          "hoverlabel": {
           "align": "left"
          },
          "hovermode": "closest",
          "mapbox": {
           "style": "light"
          },
          "paper_bgcolor": "white",
          "plot_bgcolor": "#E5ECF6",
          "polar": {
           "angularaxis": {
            "gridcolor": "white",
            "linecolor": "white",
            "ticks": ""
           },
           "bgcolor": "#E5ECF6",
           "radialaxis": {
            "gridcolor": "white",
            "linecolor": "white",
            "ticks": ""
           }
          },
          "scene": {
           "xaxis": {
            "backgroundcolor": "#E5ECF6",
            "gridcolor": "white",
            "gridwidth": 2,
            "linecolor": "white",
            "showbackground": true,
            "ticks": "",
            "zerolinecolor": "white"
           },
           "yaxis": {
            "backgroundcolor": "#E5ECF6",
            "gridcolor": "white",
            "gridwidth": 2,
            "linecolor": "white",
            "showbackground": true,
            "ticks": "",
            "zerolinecolor": "white"
           },
           "zaxis": {
            "backgroundcolor": "#E5ECF6",
            "gridcolor": "white",
            "gridwidth": 2,
            "linecolor": "white",
            "showbackground": true,
            "ticks": "",
            "zerolinecolor": "white"
           }
          },
          "shapedefaults": {
           "line": {
            "color": "#2a3f5f"
           }
          },
          "ternary": {
           "aaxis": {
            "gridcolor": "white",
            "linecolor": "white",
            "ticks": ""
           },
           "baxis": {
            "gridcolor": "white",
            "linecolor": "white",
            "ticks": ""
           },
           "bgcolor": "#E5ECF6",
           "caxis": {
            "gridcolor": "white",
            "linecolor": "white",
            "ticks": ""
           }
          },
          "title": {
           "x": 0.05
          },
          "xaxis": {
           "automargin": true,
           "gridcolor": "white",
           "linecolor": "white",
           "ticks": "",
           "title": {
            "standoff": 15
           },
           "zerolinecolor": "white",
           "zerolinewidth": 2
          },
          "yaxis": {
           "automargin": true,
           "gridcolor": "white",
           "linecolor": "white",
           "ticks": "",
           "title": {
            "standoff": 15
           },
           "zerolinecolor": "white",
           "zerolinewidth": 2
          }
         }
        },
        "title": {
         "text": "Crude oil price with three years gap"
        },
        "width": 850,
        "xaxis": {
         "ticktext": [
          "Jan",
          "Feb",
          "Mar",
          "Apr",
          "May",
          "Jun",
          "Jul",
          "Aug",
          "Sep",
          "Oct",
          "Nov",
          "Dec"
         ],
         "tickvals": [
          "January",
          "February",
          "March",
          "April",
          "May",
          "June",
          "July",
          "August",
          "September",
          "October",
          "November",
          "December"
         ]
        },
        "yaxis": {
         "title": {
          "text": "Price (US$/Barrel)"
         }
        }
       }
      },
      "text/html": [
       "<div>                            <div id=\"964dff5c-0d36-46cc-a19d-b32d886102eb\" class=\"plotly-graph-div\" style=\"height:525px; width:850px;\"></div>            <script type=\"text/javascript\">                require([\"plotly\"], function(Plotly) {                    window.PLOTLYENV=window.PLOTLYENV || {};                                    if (document.getElementById(\"964dff5c-0d36-46cc-a19d-b32d886102eb\")) {                    Plotly.newPlot(                        \"964dff5c-0d36-46cc-a19d-b32d886102eb\",                        [{\"line\":{\"color\":\"firebrick\",\"dash\":\"dot\",\"width\":3},\"name\":\"2006 Price\",\"x\":[\"January\",\"February\",\"March\",\"April\",\"May\",\"June\",\"July\",\"August\",\"September\",\"October\",\"November\",\"December\"],\"y\":[63.85,61.33,65.0,72.09,71.18,69.32,75.13,75.15,62.97,59.49,59.81,64.7],\"type\":\"scatter\"},{\"line\":{\"color\":\"royalblue\",\"dash\":\"dot\",\"width\":3},\"name\":\"2009 Price\",\"x\":[\"January\",\"February\",\"March\",\"April\",\"May\",\"June\",\"July\",\"August\",\"September\",\"October\",\"November\",\"December\"],\"y\":[44.95,46.52,49.7,51.16,60.02,72.24,66.52,74.0,70.22,78.25,78.11,75.11],\"type\":\"scatter\"},{\"line\":{\"color\":\"goldenrod\",\"dash\":\"dot\",\"width\":3},\"name\":\"2012 Price\",\"x\":[\"January\",\"February\",\"March\",\"April\",\"May\",\"June\",\"July\",\"August\",\"September\",\"October\",\"November\",\"December\"],\"y\":[113.81,121.87,128.0,122.62,113.08,98.06,104.62,113.76,114.36,108.92,111.05,114.49],\"type\":\"scatter\"},{\"line\":{\"color\":\"darkturquoise\",\"dash\":\"dot\",\"width\":3},\"name\":\"2015 Price\",\"x\":[\"January\",\"February\",\"March\",\"April\",\"May\",\"June\",\"July\",\"August\",\"September\",\"October\",\"November\",\"December\"],\"y\":[48.81,58.09,56.69,57.45,65.08,62.06,57.01,47.09,48.08,48.86,44.82,37.8],\"type\":\"scatter\"},{\"line\":{\"color\":\"forestgreen\",\"dash\":\"dot\",\"width\":3},\"name\":\"2018 Price\",\"x\":[\"January\",\"February\",\"March\",\"April\",\"May\",\"June\",\"July\",\"August\",\"September\",\"October\",\"November\",\"December\"],\"y\":[69.68,66.67,74.72,72.37,77.64,75.38,74.72,73.35,79.59,79.18,66.59,62.0],\"type\":\"scatter\"},{\"line\":{\"color\":\"darkgrey\",\"dash\":\"dot\",\"width\":3},\"name\":\"2021 Price\",\"x\":[\"January\",\"February\",\"March\",\"April\",\"May\",\"June\",\"July\",\"August\",\"September\",\"October\",\"November\",\"December\"],\"y\":[54.87,62.48,65.62,64.3,67.83,73.46,75.93,70.72,74.55,84.11,82.16,65.41],\"type\":\"scatter\"}],                        {\"template\":{\"data\":{\"histogram2dcontour\":[{\"type\":\"histogram2dcontour\",\"colorbar\":{\"outlinewidth\":0,\"ticks\":\"\"},\"colorscale\":[[0.0,\"#0d0887\"],[0.1111111111111111,\"#46039f\"],[0.2222222222222222,\"#7201a8\"],[0.3333333333333333,\"#9c179e\"],[0.4444444444444444,\"#bd3786\"],[0.5555555555555556,\"#d8576b\"],[0.6666666666666666,\"#ed7953\"],[0.7777777777777778,\"#fb9f3a\"],[0.8888888888888888,\"#fdca26\"],[1.0,\"#f0f921\"]]}],\"choropleth\":[{\"type\":\"choropleth\",\"colorbar\":{\"outlinewidth\":0,\"ticks\":\"\"}}],\"histogram2d\":[{\"type\":\"histogram2d\",\"colorbar\":{\"outlinewidth\":0,\"ticks\":\"\"},\"colorscale\":[[0.0,\"#0d0887\"],[0.1111111111111111,\"#46039f\"],[0.2222222222222222,\"#7201a8\"],[0.3333333333333333,\"#9c179e\"],[0.4444444444444444,\"#bd3786\"],[0.5555555555555556,\"#d8576b\"],[0.6666666666666666,\"#ed7953\"],[0.7777777777777778,\"#fb9f3a\"],[0.8888888888888888,\"#fdca26\"],[1.0,\"#f0f921\"]]}],\"heatmap\":[{\"type\":\"heatmap\",\"colorbar\":{\"outlinewidth\":0,\"ticks\":\"\"},\"colorscale\":[[0.0,\"#0d0887\"],[0.1111111111111111,\"#46039f\"],[0.2222222222222222,\"#7201a8\"],[0.3333333333333333,\"#9c179e\"],[0.4444444444444444,\"#bd3786\"],[0.5555555555555556,\"#d8576b\"],[0.6666666666666666,\"#ed7953\"],[0.7777777777777778,\"#fb9f3a\"],[0.8888888888888888,\"#fdca26\"],[1.0,\"#f0f921\"]]}],\"heatmapgl\":[{\"type\":\"heatmapgl\",\"colorbar\":{\"outlinewidth\":0,\"ticks\":\"\"},\"colorscale\":[[0.0,\"#0d0887\"],[0.1111111111111111,\"#46039f\"],[0.2222222222222222,\"#7201a8\"],[0.3333333333333333,\"#9c179e\"],[0.4444444444444444,\"#bd3786\"],[0.5555555555555556,\"#d8576b\"],[0.6666666666666666,\"#ed7953\"],[0.7777777777777778,\"#fb9f3a\"],[0.8888888888888888,\"#fdca26\"],[1.0,\"#f0f921\"]]}],\"contourcarpet\":[{\"type\":\"contourcarpet\",\"colorbar\":{\"outlinewidth\":0,\"ticks\":\"\"}}],\"contour\":[{\"type\":\"contour\",\"colorbar\":{\"outlinewidth\":0,\"ticks\":\"\"},\"colorscale\":[[0.0,\"#0d0887\"],[0.1111111111111111,\"#46039f\"],[0.2222222222222222,\"#7201a8\"],[0.3333333333333333,\"#9c179e\"],[0.4444444444444444,\"#bd3786\"],[0.5555555555555556,\"#d8576b\"],[0.6666666666666666,\"#ed7953\"],[0.7777777777777778,\"#fb9f3a\"],[0.8888888888888888,\"#fdca26\"],[1.0,\"#f0f921\"]]}],\"surface\":[{\"type\":\"surface\",\"colorbar\":{\"outlinewidth\":0,\"ticks\":\"\"},\"colorscale\":[[0.0,\"#0d0887\"],[0.1111111111111111,\"#46039f\"],[0.2222222222222222,\"#7201a8\"],[0.3333333333333333,\"#9c179e\"],[0.4444444444444444,\"#bd3786\"],[0.5555555555555556,\"#d8576b\"],[0.6666666666666666,\"#ed7953\"],[0.7777777777777778,\"#fb9f3a\"],[0.8888888888888888,\"#fdca26\"],[1.0,\"#f0f921\"]]}],\"mesh3d\":[{\"type\":\"mesh3d\",\"colorbar\":{\"outlinewidth\":0,\"ticks\":\"\"}}],\"scatter\":[{\"fillpattern\":{\"fillmode\":\"overlay\",\"size\":10,\"solidity\":0.2},\"type\":\"scatter\"}],\"parcoords\":[{\"type\":\"parcoords\",\"line\":{\"colorbar\":{\"outlinewidth\":0,\"ticks\":\"\"}}}],\"scatterpolargl\":[{\"type\":\"scatterpolargl\",\"marker\":{\"colorbar\":{\"outlinewidth\":0,\"ticks\":\"\"}}}],\"bar\":[{\"error_x\":{\"color\":\"#2a3f5f\"},\"error_y\":{\"color\":\"#2a3f5f\"},\"marker\":{\"line\":{\"color\":\"#E5ECF6\",\"width\":0.5},\"pattern\":{\"fillmode\":\"overlay\",\"size\":10,\"solidity\":0.2}},\"type\":\"bar\"}],\"scattergeo\":[{\"type\":\"scattergeo\",\"marker\":{\"colorbar\":{\"outlinewidth\":0,\"ticks\":\"\"}}}],\"scatterpolar\":[{\"type\":\"scatterpolar\",\"marker\":{\"colorbar\":{\"outlinewidth\":0,\"ticks\":\"\"}}}],\"histogram\":[{\"marker\":{\"pattern\":{\"fillmode\":\"overlay\",\"size\":10,\"solidity\":0.2}},\"type\":\"histogram\"}],\"scattergl\":[{\"type\":\"scattergl\",\"marker\":{\"colorbar\":{\"outlinewidth\":0,\"ticks\":\"\"}}}],\"scatter3d\":[{\"type\":\"scatter3d\",\"line\":{\"colorbar\":{\"outlinewidth\":0,\"ticks\":\"\"}},\"marker\":{\"colorbar\":{\"outlinewidth\":0,\"ticks\":\"\"}}}],\"scattermapbox\":[{\"type\":\"scattermapbox\",\"marker\":{\"colorbar\":{\"outlinewidth\":0,\"ticks\":\"\"}}}],\"scatterternary\":[{\"type\":\"scatterternary\",\"marker\":{\"colorbar\":{\"outlinewidth\":0,\"ticks\":\"\"}}}],\"scattercarpet\":[{\"type\":\"scattercarpet\",\"marker\":{\"colorbar\":{\"outlinewidth\":0,\"ticks\":\"\"}}}],\"carpet\":[{\"aaxis\":{\"endlinecolor\":\"#2a3f5f\",\"gridcolor\":\"white\",\"linecolor\":\"white\",\"minorgridcolor\":\"white\",\"startlinecolor\":\"#2a3f5f\"},\"baxis\":{\"endlinecolor\":\"#2a3f5f\",\"gridcolor\":\"white\",\"linecolor\":\"white\",\"minorgridcolor\":\"white\",\"startlinecolor\":\"#2a3f5f\"},\"type\":\"carpet\"}],\"table\":[{\"cells\":{\"fill\":{\"color\":\"#EBF0F8\"},\"line\":{\"color\":\"white\"}},\"header\":{\"fill\":{\"color\":\"#C8D4E3\"},\"line\":{\"color\":\"white\"}},\"type\":\"table\"}],\"barpolar\":[{\"marker\":{\"line\":{\"color\":\"#E5ECF6\",\"width\":0.5},\"pattern\":{\"fillmode\":\"overlay\",\"size\":10,\"solidity\":0.2}},\"type\":\"barpolar\"}],\"pie\":[{\"automargin\":true,\"type\":\"pie\"}]},\"layout\":{\"autotypenumbers\":\"strict\",\"colorway\":[\"#636efa\",\"#EF553B\",\"#00cc96\",\"#ab63fa\",\"#FFA15A\",\"#19d3f3\",\"#FF6692\",\"#B6E880\",\"#FF97FF\",\"#FECB52\"],\"font\":{\"color\":\"#2a3f5f\"},\"hovermode\":\"closest\",\"hoverlabel\":{\"align\":\"left\"},\"paper_bgcolor\":\"white\",\"plot_bgcolor\":\"#E5ECF6\",\"polar\":{\"bgcolor\":\"#E5ECF6\",\"angularaxis\":{\"gridcolor\":\"white\",\"linecolor\":\"white\",\"ticks\":\"\"},\"radialaxis\":{\"gridcolor\":\"white\",\"linecolor\":\"white\",\"ticks\":\"\"}},\"ternary\":{\"bgcolor\":\"#E5ECF6\",\"aaxis\":{\"gridcolor\":\"white\",\"linecolor\":\"white\",\"ticks\":\"\"},\"baxis\":{\"gridcolor\":\"white\",\"linecolor\":\"white\",\"ticks\":\"\"},\"caxis\":{\"gridcolor\":\"white\",\"linecolor\":\"white\",\"ticks\":\"\"}},\"coloraxis\":{\"colorbar\":{\"outlinewidth\":0,\"ticks\":\"\"}},\"colorscale\":{\"sequential\":[[0.0,\"#0d0887\"],[0.1111111111111111,\"#46039f\"],[0.2222222222222222,\"#7201a8\"],[0.3333333333333333,\"#9c179e\"],[0.4444444444444444,\"#bd3786\"],[0.5555555555555556,\"#d8576b\"],[0.6666666666666666,\"#ed7953\"],[0.7777777777777778,\"#fb9f3a\"],[0.8888888888888888,\"#fdca26\"],[1.0,\"#f0f921\"]],\"sequentialminus\":[[0.0,\"#0d0887\"],[0.1111111111111111,\"#46039f\"],[0.2222222222222222,\"#7201a8\"],[0.3333333333333333,\"#9c179e\"],[0.4444444444444444,\"#bd3786\"],[0.5555555555555556,\"#d8576b\"],[0.6666666666666666,\"#ed7953\"],[0.7777777777777778,\"#fb9f3a\"],[0.8888888888888888,\"#fdca26\"],[1.0,\"#f0f921\"]],\"diverging\":[[0,\"#8e0152\"],[0.1,\"#c51b7d\"],[0.2,\"#de77ae\"],[0.3,\"#f1b6da\"],[0.4,\"#fde0ef\"],[0.5,\"#f7f7f7\"],[0.6,\"#e6f5d0\"],[0.7,\"#b8e186\"],[0.8,\"#7fbc41\"],[0.9,\"#4d9221\"],[1,\"#276419\"]]},\"xaxis\":{\"gridcolor\":\"white\",\"linecolor\":\"white\",\"ticks\":\"\",\"title\":{\"standoff\":15},\"zerolinecolor\":\"white\",\"automargin\":true,\"zerolinewidth\":2},\"yaxis\":{\"gridcolor\":\"white\",\"linecolor\":\"white\",\"ticks\":\"\",\"title\":{\"standoff\":15},\"zerolinecolor\":\"white\",\"automargin\":true,\"zerolinewidth\":2},\"scene\":{\"xaxis\":{\"backgroundcolor\":\"#E5ECF6\",\"gridcolor\":\"white\",\"linecolor\":\"white\",\"showbackground\":true,\"ticks\":\"\",\"zerolinecolor\":\"white\",\"gridwidth\":2},\"yaxis\":{\"backgroundcolor\":\"#E5ECF6\",\"gridcolor\":\"white\",\"linecolor\":\"white\",\"showbackground\":true,\"ticks\":\"\",\"zerolinecolor\":\"white\",\"gridwidth\":2},\"zaxis\":{\"backgroundcolor\":\"#E5ECF6\",\"gridcolor\":\"white\",\"linecolor\":\"white\",\"showbackground\":true,\"ticks\":\"\",\"zerolinecolor\":\"white\",\"gridwidth\":2}},\"shapedefaults\":{\"line\":{\"color\":\"#2a3f5f\"}},\"annotationdefaults\":{\"arrowcolor\":\"#2a3f5f\",\"arrowhead\":0,\"arrowwidth\":1},\"geo\":{\"bgcolor\":\"white\",\"landcolor\":\"#E5ECF6\",\"subunitcolor\":\"white\",\"showland\":true,\"showlakes\":true,\"lakecolor\":\"white\"},\"title\":{\"x\":0.05},\"mapbox\":{\"style\":\"light\"}}},\"xaxis\":{\"tickvals\":[\"January\",\"February\",\"March\",\"April\",\"May\",\"June\",\"July\",\"August\",\"September\",\"October\",\"November\",\"December\"],\"ticktext\":[\"Jan\",\"Feb\",\"Mar\",\"Apr\",\"May\",\"Jun\",\"Jul\",\"Aug\",\"Sep\",\"Oct\",\"Nov\",\"Dec\"]},\"title\":{\"text\":\"Crude oil price with three years gap\"},\"width\":850,\"yaxis\":{\"title\":{\"text\":\"Price (US$/Barrel)\"}}},                        {\"responsive\": true}                    ).then(function(){\n",
       "                            \n",
       "var gd = document.getElementById('964dff5c-0d36-46cc-a19d-b32d886102eb');\n",
       "var x = new MutationObserver(function (mutations, observer) {{\n",
       "        var display = window.getComputedStyle(gd).display;\n",
       "        if (!display || display === 'none') {{\n",
       "            console.log([gd, 'removed!']);\n",
       "            Plotly.purge(gd);\n",
       "            observer.disconnect();\n",
       "        }}\n",
       "}});\n",
       "\n",
       "// Listen for the removal of the full notebook cells\n",
       "var notebookContainer = gd.closest('#notebook-container');\n",
       "if (notebookContainer) {{\n",
       "    x.observe(notebookContainer, {childList: true});\n",
       "}}\n",
       "\n",
       "// Listen for the clearing of the current output cell\n",
       "var outputEl = gd.closest('.output');\n",
       "if (outputEl) {{\n",
       "    x.observe(outputEl, {childList: true});\n",
       "}}\n",
       "\n",
       "                        })                };                });            </script>        </div>"
      ]
     },
     "metadata": {},
     "output_type": "display_data"
    }
   ],
   "source": [
    "def add_year(price_year, color):\n",
    "    price = price_year\n",
    "    name = price[5:] + ' Price'\n",
    "    fig.add_trace(go.Scatter(x=sqlDF.index, y=sqlDF[price_year],\n",
    "                            name=name, line=dict(color=color, \n",
    "                                                            width=3, dash='dot')))\n",
    "fig = go.Figure()\n",
    "add_year('Price2006', 'firebrick')\n",
    "add_year('Price2009', 'royalblue')\n",
    "add_year('Price2012', 'goldenrod')\n",
    "add_year('Price2015', 'darkturquoise')\n",
    "add_year('Price2018', 'forestgreen')\n",
    "add_year('Price2021', 'darkgrey')\n",
    "fig.update_layout(title='Crude oil price with three years gap', width=850,\n",
    "                  yaxis_title = 'Price (US$/Barrel)',\n",
    "                  xaxis = dict(\n",
    "                      tickvals = month_order, \n",
    "                      ticktext = month_short\n",
    "                  )\n",
    "                  )\n",
    "fig.show()"
   ]
  },
  {
   "cell_type": "markdown",
   "metadata": {},
   "source": [
    "2012 looks like an ouliear but then, we are viewing the year with three years gap. The price is clustered between 35 and 85(US%/Barrel).\n",
    "\n",
    "**Production Difference**"
   ]
  },
  {
   "cell_type": "code",
   "execution_count": 17,
   "metadata": {},
   "outputs": [
    {
     "data": {
      "text/html": [
       "<div>\n",
       "<style scoped>\n",
       "    .dataframe tbody tr th:only-of-type {\n",
       "        vertical-align: middle;\n",
       "    }\n",
       "\n",
       "    .dataframe tbody tr th {\n",
       "        vertical-align: top;\n",
       "    }\n",
       "\n",
       "    .dataframe thead th {\n",
       "        text-align: right;\n",
       "    }\n",
       "</style>\n",
       "<table border=\"1\" class=\"dataframe\">\n",
       "  <thead>\n",
       "    <tr style=\"text-align: right;\">\n",
       "      <th></th>\n",
       "      <th>Prod2006</th>\n",
       "      <th>Prod2009</th>\n",
       "      <th>Prod2012</th>\n",
       "      <th>Prod2015</th>\n",
       "      <th>Prod2018</th>\n",
       "      <th>Prod2021</th>\n",
       "    </tr>\n",
       "    <tr>\n",
       "      <th>month</th>\n",
       "      <th></th>\n",
       "      <th></th>\n",
       "      <th></th>\n",
       "      <th></th>\n",
       "      <th></th>\n",
       "      <th></th>\n",
       "    </tr>\n",
       "  </thead>\n",
       "  <tbody>\n",
       "    <tr>\n",
       "      <th>January</th>\n",
       "      <td>2.59</td>\n",
       "      <td>2.03</td>\n",
       "      <td>2.23</td>\n",
       "      <td>2.20</td>\n",
       "      <td>2.00</td>\n",
       "      <td>1.36</td>\n",
       "    </tr>\n",
       "    <tr>\n",
       "      <th>February</th>\n",
       "      <td>2.47</td>\n",
       "      <td>2.06</td>\n",
       "      <td>2.40</td>\n",
       "      <td>2.21</td>\n",
       "      <td>2.01</td>\n",
       "      <td>1.42</td>\n",
       "    </tr>\n",
       "    <tr>\n",
       "      <th>March</th>\n",
       "      <td>2.25</td>\n",
       "      <td>2.07</td>\n",
       "      <td>2.34</td>\n",
       "      <td>2.07</td>\n",
       "      <td>1.94</td>\n",
       "      <td>1.43</td>\n",
       "    </tr>\n",
       "    <tr>\n",
       "      <th>April</th>\n",
       "      <td>2.32</td>\n",
       "      <td>1.86</td>\n",
       "      <td>2.30</td>\n",
       "      <td>2.03</td>\n",
       "      <td>1.97</td>\n",
       "      <td>1.37</td>\n",
       "    </tr>\n",
       "    <tr>\n",
       "      <th>May</th>\n",
       "      <td>2.28</td>\n",
       "      <td>2.22</td>\n",
       "      <td>2.40</td>\n",
       "      <td>2.05</td>\n",
       "      <td>1.78</td>\n",
       "      <td>1.34</td>\n",
       "    </tr>\n",
       "    <tr>\n",
       "      <th>June</th>\n",
       "      <td>2.41</td>\n",
       "      <td>2.17</td>\n",
       "      <td>2.37</td>\n",
       "      <td>1.97</td>\n",
       "      <td>1.78</td>\n",
       "      <td>1.31</td>\n",
       "    </tr>\n",
       "    <tr>\n",
       "      <th>July</th>\n",
       "      <td>2.39</td>\n",
       "      <td>2.14</td>\n",
       "      <td>2.42</td>\n",
       "      <td>2.18</td>\n",
       "      <td>1.83</td>\n",
       "      <td>1.32</td>\n",
       "    </tr>\n",
       "    <tr>\n",
       "      <th>August</th>\n",
       "      <td>2.40</td>\n",
       "      <td>2.12</td>\n",
       "      <td>2.48</td>\n",
       "      <td>2.12</td>\n",
       "      <td>2.00</td>\n",
       "      <td>1.24</td>\n",
       "    </tr>\n",
       "    <tr>\n",
       "      <th>September</th>\n",
       "      <td>2.40</td>\n",
       "      <td>2.18</td>\n",
       "      <td>2.45</td>\n",
       "      <td>2.22</td>\n",
       "      <td>1.96</td>\n",
       "      <td>1.25</td>\n",
       "    </tr>\n",
       "    <tr>\n",
       "      <th>October</th>\n",
       "      <td>2.38</td>\n",
       "      <td>2.28</td>\n",
       "      <td>2.19</td>\n",
       "      <td>2.21</td>\n",
       "      <td>2.01</td>\n",
       "      <td>1.23</td>\n",
       "    </tr>\n",
       "    <tr>\n",
       "      <th>November</th>\n",
       "      <td>2.34</td>\n",
       "      <td>2.15</td>\n",
       "      <td>2.03</td>\n",
       "      <td>2.18</td>\n",
       "      <td>1.80</td>\n",
       "      <td>1.23</td>\n",
       "    </tr>\n",
       "    <tr>\n",
       "      <th>December</th>\n",
       "      <td>2.36</td>\n",
       "      <td>2.05</td>\n",
       "      <td>2.21</td>\n",
       "      <td>2.08</td>\n",
       "      <td>1.90</td>\n",
       "      <td>1.20</td>\n",
       "    </tr>\n",
       "  </tbody>\n",
       "</table>\n",
       "</div>"
      ],
      "text/plain": [
       "           Prod2006  Prod2009  Prod2012  Prod2015  Prod2018  Prod2021\n",
       "month                                                                \n",
       "January        2.59      2.03      2.23      2.20      2.00      1.36\n",
       "February       2.47      2.06      2.40      2.21      2.01      1.42\n",
       "March          2.25      2.07      2.34      2.07      1.94      1.43\n",
       "April          2.32      1.86      2.30      2.03      1.97      1.37\n",
       "May            2.28      2.22      2.40      2.05      1.78      1.34\n",
       "June           2.41      2.17      2.37      1.97      1.78      1.31\n",
       "July           2.39      2.14      2.42      2.18      1.83      1.32\n",
       "August         2.40      2.12      2.48      2.12      2.00      1.24\n",
       "September      2.40      2.18      2.45      2.22      1.96      1.25\n",
       "October        2.38      2.28      2.19      2.21      2.01      1.23\n",
       "November       2.34      2.15      2.03      2.18      1.80      1.23\n",
       "December       2.36      2.05      2.21      2.08      1.90      1.20"
      ]
     },
     "execution_count": 17,
     "metadata": {},
     "output_type": "execute_result"
    }
   ],
   "source": [
    "month_order = ['January', 'February', 'March', 'April', 'May', 'June', \n",
    "               'July', 'August', 'September', 'October', 'November', 'December']\n",
    "query = \"\"\"\n",
    "WITH first AS (\n",
    "    SELECT  c1.month, c1.production AS Prod2006, c2.production AS Prod2009\n",
    "      FROM  crudeOilPrice AS c1\n",
    "INNER JOIN  crudeOilPrice AS c2\n",
    "        ON  c1.month = c2.month\n",
    "     WHERE  c1.year = 2006 AND c2.year = c1.year + 3),\n",
    "\n",
    "sec AS (\n",
    "    SELECT  c1.month, c1.production AS Prod2012, c2.production AS Prod2015\n",
    "      FROM  crudeOilPrice AS c1\n",
    "INNER JOIN  crudeOilPrice AS c2\n",
    "        ON  c1.month = c2.month\n",
    "     WHERE  c1.year = 2012 AND c2.year = c1.year + 3),\n",
    "\n",
    "third AS (\n",
    "    SELECT  c1.month, c1.production AS Prod2018, c2.production AS Prod2021\n",
    "      FROM  crudeOilPrice AS c1\n",
    "INNER JOIN  crudeOilPrice AS c2\n",
    "        ON  c1.month = c2.month\n",
    "     WHERE  c1.year = 2018 AND c2.year = c1.year + 3)\n",
    "     \n",
    "    SELECT  f.month, f.Prod2006, f.Prod2009, s.Prod2012, s.Prod2015, t.Prod2018, t.Prod2021\n",
    "      FROM  first AS f\n",
    " LEFT JOIN  sec AS s\n",
    "     USING  (month)\n",
    " LEFT JOIN  third AS t\n",
    "     USING  (month)\n",
    "\"\"\"\n",
    "\n",
    "sqlDF = pd.read_sql_query(query, conn, index_col='month').reindex(month_order)\n",
    "sqlDF"
   ]
  },
  {
   "cell_type": "code",
   "execution_count": 18,
   "metadata": {},
   "outputs": [],
   "source": [
    "def add_year(price_year, color):\n",
    "    price = price_year\n",
    "    name = price[4:] + ' Production'\n",
    "    fig.add_trace(go.Scatter(x=sqlDF.index, y=sqlDF[price_year],\n",
    "                            name=name, line=dict(color=color, \n",
    "                                                            width=3, dash='dot')))\n",
    "fig = go.Figure()\n",
    "add_year('Prod2006', 'firebrick')\n",
    "add_year('Prod2009', 'royalblue')\n",
    "add_year('Prod2012', 'goldenrod')\n",
    "add_year('Prod2015', 'darkturquoise')\n",
    "add_year('Prod2018', 'forestgreen')\n",
    "add_year('Prod2021', 'darkgrey')\n",
    "\n",
    "fig.update_layout(title='Crude oil production with three years gap', width=850,\n",
    "                  yaxis_title = 'Production (mbd)',\n",
    "                  xaxis = dict(\n",
    "                      tickvals = month_order, \n",
    "                      ticktext = month_short\n",
    "                  )\n",
    "                  )\n",
    "fig.show()"
   ]
  },
  {
   "cell_type": "markdown",
   "metadata": {},
   "source": [
    "From the visual above, production started decreasing after 2012. \n",
    "\n",
    "### Other Insights\n",
    "\n",
    "* Summarizing the three numeric column"
   ]
  },
  {
   "cell_type": "code",
   "execution_count": null,
   "metadata": {},
   "outputs": [],
   "source": [
    "query = \"\"\"\n",
    "SELECT  min(crude_oil_price) Min_Price,\n",
    "        ROUND(avg(crude_oil_price), 2) Avg_Price,\n",
    "        max(crude_oil_price) Max_Price,\n",
    "        min(production) Min_Production,\n",
    "        ROUND(avg(production), 2) Avg_Production,\n",
    "        max(production) Max_Production,\n",
    "        min(crude_oil_export) Min_Export,\n",
    "        ROUND(avg(crude_oil_export), 2) Avg_Export,\n",
    "        max(crude_oil_export) Max_Export\n",
    "  FROM  crudeOilPrice\n",
    "\"\"\"\n",
    "\n",
    "pd.read_sql_query(query, conn)"
   ]
  },
  {
   "cell_type": "markdown",
   "metadata": {},
   "source": [
    "**Statistics Summary Of Crude Oil**\n",
    "\n",
    "**Price by month**"
   ]
  },
  {
   "cell_type": "code",
   "execution_count": null,
   "metadata": {},
   "outputs": [],
   "source": [
    "query = \"\"\"\n",
    "  SELECT month Month,\n",
    "         min(crude_oil_price) Min_Price,\n",
    "         ROUND(avg(crude_oil_price), 2) Avg_Price,\n",
    "         max(crude_oil_price) Max_Price\n",
    "    FROM crudeOilPrice\n",
    "GROUP BY month\n",
    "ORDER BY Avg_Price\n",
    "\"\"\"\n",
    "\n",
    "sqlDF = pd.read_sql_query(query, conn, index_col='Month').reindex(month_order)\n",
    "sqlDF"
   ]
  },
  {
   "cell_type": "code",
   "execution_count": null,
   "metadata": {},
   "outputs": [],
   "source": [
    "def add_line(price, color):\n",
    "    fig.add_trace(go.Scatter(x=sqlDF.index, y=sqlDF[price],\n",
    "                            name=price, mode='lines+markers+text',\n",
    "                            text = sqlDF[price], textposition='top center',\n",
    "                            line=dict(color=color, \n",
    "                                      width=3, dash='dot'),\n",
    "                            textfont=dict(\n",
    "                                size=10\n",
    "                            )))\n",
    "fig = go.Figure()\n",
    "add_line('Min_Price', 'firebrick')\n",
    "add_line('Avg_Price', 'royalblue')\n",
    "add_line('Max_Price', 'forestgreen')\n",
    "\n",
    "fig.update_layout(title='Summary of crude oil price by month', width=850,\n",
    "                  yaxis_title = 'Price (US$/Barrel)',\n",
    "                  xaxis = dict(\n",
    "                      tickvals = month_order, \n",
    "                      ticktext = month_short\n",
    "                  ))\n",
    "fig.update_yaxes(showticklabels=False)\n",
    "fig.show()"
   ]
  },
  {
   "cell_type": "markdown",
   "metadata": {},
   "source": [
    "From the plot above, we can see that average price of crude oil increase as the year starts and decrease towards the end.\n",
    "\n",
    "**Price by year**"
   ]
  },
  {
   "cell_type": "code",
   "execution_count": null,
   "metadata": {},
   "outputs": [],
   "source": [
    "query = \"\"\"\n",
    "  SELECT year Year,\n",
    "         min(crude_oil_price) Min_Price,\n",
    "         ROUND(avg(crude_oil_price), 2) Avg_Price,\n",
    "         max(crude_oil_price) Max_Price\n",
    "    FROM crudeOilPrice\n",
    "GROUP BY year\n",
    "ORDER BY Avg_Price\n",
    "\"\"\"\n",
    "\n",
    "sqlDF = pd.read_sql_query(query, conn, index_col='Year').sort_index()\n",
    "sqlDF"
   ]
  },
  {
   "cell_type": "code",
   "execution_count": null,
   "metadata": {},
   "outputs": [],
   "source": [
    "def add_line(price, color):\n",
    "    fig.add_trace(go.Scatter(x=sqlDF.index, y=sqlDF[price],\n",
    "                            name=price, line=dict(color=color, \n",
    "                                                    width=3, dash='dot')))\n",
    "fig = go.Figure()\n",
    "add_line('Min_Price', 'firebrick')\n",
    "add_line('Avg_Price', 'royalblue')\n",
    "add_line('Max_Price', 'forestgreen')\n",
    "\n",
    "fig.update_layout(title='Summary of crude oil price by year', width=950,\n",
    "                  yaxis_title = 'Price (US$/Barrel)'\n",
    "                  )\n",
    "fig.show()"
   ]
  },
  {
   "cell_type": "markdown",
   "metadata": {},
   "source": [
    "**Production by month**"
   ]
  },
  {
   "cell_type": "code",
   "execution_count": null,
   "metadata": {},
   "outputs": [],
   "source": [
    "query = \"\"\"\n",
    "  SELECT month Month,\n",
    "         min(production) Min_Production,\n",
    "         ROUND(avg(production), 2) Avg_Production,\n",
    "         max(production) Max_Production\n",
    "    FROM crudeOilPrice\n",
    "GROUP BY month\n",
    "ORDER BY Avg_Production\n",
    "\"\"\"\n",
    "\n",
    "sqlDF = pd.read_sql_query(query, conn, index_col='Month').reindex(month_order)\n",
    "sqlDF"
   ]
  },
  {
   "cell_type": "code",
   "execution_count": null,
   "metadata": {},
   "outputs": [],
   "source": [
    "def add_line(price, color):\n",
    "    fig.add_trace(go.Scatter(x=sqlDF.index, y=sqlDF[price],\n",
    "                            name=price, mode= 'lines+markers+text',\n",
    "                            text= sqlDF[price], textposition='top center',\n",
    "                            line=dict(color=color, \n",
    "                                      width=3, dash='dot'),\n",
    "                            textfont=dict(\n",
    "                                size=10\n",
    "                            )))\n",
    "fig = go.Figure()\n",
    "add_line('Min_Production', 'firebrick')\n",
    "add_line('Avg_Production', 'royalblue')\n",
    "add_line('Max_Production', 'forestgreen')\n",
    "\n",
    "fig.update_layout(title='Summary of crude oil production by month', width=850,\n",
    "                  yaxis_title = 'Production (mbd)',\n",
    "                  xaxis = dict(\n",
    "                      tickvals = month_order, \n",
    "                      ticktext = month_short\n",
    "                  ))\n",
    "fig.update_yaxes(showticklabels=False)\n",
    "fig.show()"
   ]
  },
  {
   "cell_type": "markdown",
   "metadata": {},
   "source": [
    "**Production by year**"
   ]
  },
  {
   "cell_type": "code",
   "execution_count": null,
   "metadata": {},
   "outputs": [],
   "source": [
    "query = \"\"\"\n",
    "  SELECT year Year,\n",
    "         min(production) Min_Production,\n",
    "         avg(production) Avg_Production,\n",
    "         max(production) Max_Production\n",
    "    FROM crudeOilPrice\n",
    "GROUP BY year\n",
    "ORDER BY Avg_Production\n",
    "\"\"\"\n",
    "\n",
    "sqlDF = pd.read_sql_query(query, conn, index_col='Year').sort_index()\n",
    "sqlDF"
   ]
  },
  {
   "cell_type": "code",
   "execution_count": null,
   "metadata": {},
   "outputs": [],
   "source": [
    "def add_line(price, color):\n",
    "    fig.add_trace(go.Scatter(x=sqlDF.index, y=sqlDF[price],\n",
    "                            name=price, line=dict(color=color, \n",
    "                                                            width=3, dash='dot')))\n",
    "fig = go.Figure()\n",
    "add_line('Min_Production', 'firebrick')\n",
    "add_line('Avg_Production', 'royalblue')\n",
    "add_line('Max_Production', 'forestgreen')\n",
    "\n",
    "fig.update_layout(title='Summary of crude oil production by year', width=950,\n",
    "                  yaxis_title = 'Production (mbd)'\n",
    "                  )\n",
    "fig.show()"
   ]
  },
  {
   "cell_type": "markdown",
   "metadata": {},
   "source": [
    "**Let's look at years that its average is above the overall average for price, production and export**"
   ]
  },
  {
   "cell_type": "code",
   "execution_count": null,
   "metadata": {},
   "outputs": [],
   "source": [
    "query = \"\"\"\n",
    "SELECT Year, Year_avg_export, sub.Overall_avg_export\n",
    "  FROM (SELECT year Year, ROUND(avg(crude_oil_export), 2) Year_avg_export, \n",
    "               (SELECT ROUND(avg(crude_oil_export), 2) \n",
    "                  FROM crudeOilPrice) Overall_avg_export\n",
    "          FROM crudeOilPrice\n",
    "      GROUP BY year) sub\n",
    "-- WHERE Year_avg_export > sub.Overall_avg_export\n",
    "\"\"\"\n",
    "sqlDF = pd.read_sql_query(query, conn, index_col='Year').sort_index()\n",
    "sqlDF"
   ]
  },
  {
   "cell_type": "code",
   "execution_count": null,
   "metadata": {},
   "outputs": [],
   "source": [
    "fig = go.Figure()\n",
    "fig.add_trace(go.Scatter(x=sqlDF.index, y=sqlDF.Year_avg_export,\n",
    "                            name='Year_avg_export', mode= 'lines+markers+text',\n",
    "                            text= sqlDF.Year_avg_export, textposition='top right',\n",
    "                            line=dict(color='royalblue', \n",
    "                                        width=3, dash='dot'),\n",
    "                            textfont=dict(size=11)))\n",
    "\n",
    "fig.add_trace(go.Scatter(x=sqlDF.index, y=sqlDF.Overall_avg_export,\n",
    "                            name='Year_avg_export', line=dict(color='firebrick', \n",
    "                                                            width=3, dash='dot')))\n",
    "\n",
    "fig.update_layout(title='Comparing yearly average of crude oil exported with overall average, 1.58mbd', width=950,\n",
    "                  yaxis_title = 'Production (mbd)')\n",
    "fig.update_yaxes(showticklabels=False)\n",
    "fig.show()"
   ]
  },
  {
   "cell_type": "markdown",
   "metadata": {},
   "source": [
    "Starting from 2016, the yearly average of crude oil exported has not pass the overall average of crude oil exported, And the gap is increasing. Do you think it will pass the mark in few years?\n",
    "\n",
    "**Comparing 2021 crude oil production with 2022**"
   ]
  },
  {
   "cell_type": "code",
   "execution_count": null,
   "metadata": {},
   "outputs": [],
   "source": [
    "# Filtering monthly production\n",
    "query = \"\"\"\n",
    "WITH sub AS (\n",
    "    SELECT month, SUM(production) AS total_prod_2022\n",
    "                            FROM crudeOilPrice\n",
    "                           WHERE year = '2022'\n",
    "                        GROUP BY month)\n",
    "\n",
    "  SELECT c1.month, SUM(c1.production) AS total_prod_2021, sub.total_prod_2022\n",
    "    FROM crudeOilPrice AS c1\n",
    "    LEFT JOIN sub \n",
    "    USING(month)\n",
    "   WHERE year = '2021' \n",
    "GROUP BY c1.month\n",
    "\"\"\"\n",
    "sqlDF = pd.read_sql_query(query, conn, index_col='month').reindex(month_order)\n",
    "print(sqlDF)"
   ]
  },
  {
   "cell_type": "code",
   "execution_count": null,
   "metadata": {},
   "outputs": [],
   "source": [
    "def add_line(total_prod, color):\n",
    "    ex = total_prod\n",
    "    name = ex[-4:] + ' Production'\n",
    "    fig.add_trace(go.Scatter(x=sqlDF.index, y=sqlDF[total_prod],\n",
    "                            name=name, mode='lines+markers+text',\n",
    "                            text=sqlDF[total_prod], textposition='bottom left',\n",
    "                            line=dict(color=color, \n",
    "                                        width=3, dash='dot'),\n",
    "                            textfont=dict(size=10)))\n",
    "fig = go.Figure()\n",
    "add_line('total_prod_2021', 'royalblue')\n",
    "add_line('total_prod_2022', 'firebrick')\n",
    "\n",
    "\n",
    "fig.update_layout(title='Comparing year 2021 crude oil production with that of 2022', width=950,\n",
    "                  yaxis_title = 'Production (mbd)',\n",
    "                  xaxis= dict(\n",
    "                      tickvals= month_order,\n",
    "                      ticktext= month_short\n",
    "                  ))\n",
    "fig.update_yaxes(showticklabels=False)\n",
    "fig.show()"
   ]
  },
  {
   "cell_type": "markdown",
   "metadata": {},
   "source": [
    "The above charts depicts that production is decreasing. Will it increase next month? We don't know untill we have the data for that month.\n",
    "\n",
    "**Change in production between 2021 and 2022**"
   ]
  },
  {
   "cell_type": "code",
   "execution_count": null,
   "metadata": {},
   "outputs": [],
   "source": [
    "# Filtering monthly production\n",
    "query = \"\"\"\n",
    "WITH sub AS (\n",
    "    SELECT month, SUM(production) AS total_prod_2022\n",
    "                            FROM crudeOilPrice\n",
    "                           WHERE year = '2022'\n",
    "                        GROUP BY month)\n",
    "\n",
    "  SELECT c1.month, SUM(c1.production) AS total_prod_2021, sub.total_prod_2022,\n",
    "            ROUND((sub.total_prod_2022 - SUM(c1.production)) * 100) Percentage_change\n",
    "    FROM crudeOilPrice AS c1\n",
    "    LEFT JOIN sub \n",
    "    USING(month)\n",
    "   WHERE year = '2021' \n",
    "GROUP BY c1.month\n",
    "\"\"\"\n",
    "sqlDF = pd.read_sql_query(query, conn, index_col='month').reindex(month_order)\n",
    "print(sqlDF)"
   ]
  },
  {
   "cell_type": "code",
   "execution_count": null,
   "metadata": {},
   "outputs": [],
   "source": [
    "fig = go.Figure()\n",
    "fig.add_trace(go.Bar(x=sqlDF.index, y=sqlDF.Percentage_change, text=sqlDF.Percentage_change))\n",
    "fig.update_layout(title='Percentage change of crude oil production between 2021 and 2022',\n",
    "                  yaxis_title= 'Pecentage change', width= 700,\n",
    "                  xaxis= dict(\n",
    "                      tickvals = month_order,\n",
    "                      ticktext= month_short\n",
    "                  ))\n",
    "fig.update_yaxes(showticklabels=False)\n"
   ]
  },
  {
   "cell_type": "markdown",
   "metadata": {},
   "source": [
    "The above bar chart is showing the percentage difference between months in 2021 and months in 2022. Production increase by 4% in 2022 compared to January in 2021, afterwards there has not been a positive difference between other months.\n",
    "\n",
    "Let's see the relationship between Nigeria Crude Oil export and other attributes\n",
    "\n",
    "Since SQLite doesn't have a built in correlation function and doen't support windows function. I will use Python to find the relationship between the numeric varaiable."
   ]
  },
  {
   "cell_type": "code",
   "execution_count": null,
   "metadata": {},
   "outputs": [],
   "source": [
    "query = \"SELECT * FROM crudeOilPrice\"\n",
    "sqlDF = pd.read_sql_query(query, conn)  \n",
    "sqlDF.corr()[\"crude_oil_export\"]"
   ]
  },
  {
   "cell_type": "code",
   "execution_count": null,
   "metadata": {},
   "outputs": [],
   "source": [
    "import seaborn as sb"
   ]
  },
  {
   "cell_type": "code",
   "execution_count": null,
   "metadata": {},
   "outputs": [],
   "source": [
    "sb.lmplot(data=sqlDF, x= 'production', y='crude_oil_export');"
   ]
  },
  {
   "cell_type": "code",
   "execution_count": null,
   "metadata": {},
   "outputs": [],
   "source": [
    "sb.lmplot(data=sqlDF, x= 'production', y='crude_oil_price');"
   ]
  },
  {
   "cell_type": "markdown",
   "metadata": {},
   "source": [
    "That's interesting! Crude oil price has a perfect positive correlation. Which means we can use just the production column and traiin a model to predict future export of crude oil.\n",
    "\n",
    "If you want to see this model, do well to follow me as i will be taking my analysis a bit further by build a linear regression model that can predict Nigeria Future Crude Oil Export."
   ]
  },
  {
   "cell_type": "markdown",
   "metadata": {},
   "source": [
    "percentage"
   ]
  },
  {
   "cell_type": "markdown",
   "metadata": {},
   "source": [
    "## Answer to questions\n",
    "* The largest production was made in October, 2010. A total of 2.88mbd was produced.\n",
    "* The highest average production of crude oil was made in 2010.\n",
    "* The highest average price was in year 2011.\n",
    "* No. On no ocassion has Nigeria exported all its produced crude oil.\n",
    "* There are 22 count where the crude oil exported fell below 70% of total production.\n",
    "1. For crude oil price with three years gap, all years are clustered between 35(US$/Barrel) to 84(US$/Barrel) except for year 2012 which had 98.06(US$/Barrel) as it minimum price.\n",
    "2. For crude oil production with three years gap, production starts falling after year 2012. Year 2021 looks like an outlier because its maximum production, 1.43mbd is way below the minimum, 1.78mbd, of 2018. \n",
    "\n",
    "## Summary\n",
    "* Average price of crude oil increases as the year begins and decrease as the year comes to an end.\n",
    "* Crude oil price is has been inreasing since 2020, currently (2022) the minimum price per barrel is $88.71 compare to the maximum price of $66.68 in year 2020.\n",
    "* There has been a decrease in oil production since year 2019. \n",
    "* According to [Vanguard news](https://www.vanguardngr.com/2022/04/nigerias-oil-production-rises-5-07-to-1-388mbd-in-q1/) published on April 19, 2022. Nigeria’s failure to boost crude oil production in the face of high price of oil in the international market has been largely blamed on high oil theft and pipeline vandalism in the Niger Delta region. \n",
    "* The Group Managing Director of the Nigerian National Petroleum Corporation (NNPC) Limited, Mallam Mele Kyari revealed earlier in April that oil production has crashed to 1.15 million barrels per day. According to him, “As we speak now, there is massive disruption to our operations as a result of the activities of vandals and criminals along our pipelines in the Niger Delta area. This has brought down our production to levels as low as we have never seen before. [Article](https://www.vanguardngr.com/2022/04/nigerias-oil-production-rises-5-07-to-1-388mbd-in-q1/)\n",
    "* Starting from 2016, the yearly average of crude oil exported has not pass the overall average of crude oil exported.\n",
    "* The percentage decrease of oil exported in each month of year 2022 compared to months in 2021 is currently above 14%, except for January where ther was 4% increase in exported crude oil.  \n",
    "* For this sample of data, there is a perfect linear relationship between production and crude oil exported.\n",
    "\n",
    "## Limitations\n",
    "* The Dataset consist of few records which starts from 2006 to 2022, this may affects our general view of oil production.\n",
    "* Our data has few features which is not sufficient enough to depict why there is a fall in oil production.\n",
    "* Samples for year 2022 is not complete, it stops at september.\n",
    "* This data did not meet the rule of thumb where at least 100 samples is required for each feature before proceeding to building an algorithm for prediction.\n",
    "\n"
   ]
  }
 ],
 "metadata": {
  "kernelspec": {
   "display_name": "Python 3.10.6 64-bit",
   "language": "python",
   "name": "python3"
  },
  "language_info": {
   "codemirror_mode": {
    "name": "ipython",
    "version": 3
   },
   "file_extension": ".py",
   "mimetype": "text/x-python",
   "name": "python",
   "nbconvert_exporter": "python",
   "pygments_lexer": "ipython3",
   "version": "3.10.6"
  },
  "orig_nbformat": 4,
  "vscode": {
   "interpreter": {
    "hash": "428a2680e134346dc6a50eeb15b5601ea447c297abbe5316187818ea532ba498"
   }
  }
 },
 "nbformat": 4,
 "nbformat_minor": 2
}
